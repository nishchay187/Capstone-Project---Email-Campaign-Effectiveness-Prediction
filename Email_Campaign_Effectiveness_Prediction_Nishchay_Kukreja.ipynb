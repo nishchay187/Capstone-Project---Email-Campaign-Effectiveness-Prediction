{
  "nbformat": 4,
  "nbformat_minor": 0,
  "metadata": {
    "colab": {
      "name": "Email Campaign Effectiveness Prediction - Nishchay Kukreja.ipynb",
      "provenance": [],
      "authorship_tag": "ABX9TyPNi/NkdC02YbqDqpuzL3hM",
      "include_colab_link": true
    },
    "kernelspec": {
      "name": "python3",
      "display_name": "Python 3"
    },
    "language_info": {
      "name": "python"
    }
  },
  "cells": [
    {
      "cell_type": "markdown",
      "metadata": {
        "id": "view-in-github",
        "colab_type": "text"
      },
      "source": [
        "<a href=\"https://colab.research.google.com/github/nishchay187/Capstone-Project---Email-Campaign-Effectiveness-Prediction/blob/main/Email_Campaign_Effectiveness_Prediction_Nishchay_Kukreja.ipynb\" target=\"_parent\"><img src=\"https://colab.research.google.com/assets/colab-badge.svg\" alt=\"Open In Colab\"/></a>"
      ]
    },
    {
      "cell_type": "markdown",
      "source": [
        "#**Project Title : Email Campaign Effectiveness Prediction**\n"
      ],
      "metadata": {
        "id": "za_Xd4R9h_ll"
      }
    },
    {
      "cell_type": "markdown",
      "source": [
        "##**Problem Description**\n",
        "\n",
        "Most of the small to medium business owners are making effective use of Gmail-based\n",
        "Email marketing Strategies for offline targeting of converting their prospective customers into\n",
        "leads so that they stay with them in business.\n",
        "The main objective is to create a machine learning model to characterize the mail and track\n",
        "the mail that is ignored; read; acknowledged by the reader.\n",
        "Data columns are self-explanatory."
      ],
      "metadata": {
        "id": "aOC4UGIOiA2b"
      }
    },
    {
      "cell_type": "markdown",
      "source": [
        "##**Introduction:**\n",
        "Email Marketing can be defined as a marketing technique in which businesses stay connected with their customers through emails, making them aware about their new products, updates, important notices related to the products they are using.\n",
        "\n",
        "Most importantly, email marketing allows businesses to build relationships with leads, new customers and past customers. It's a way to communicate directly to the customers in their inbox, at a time that is convenient for them. With the right messaging tone and strategies, emails are one of the most important marketing channels.\n",
        "\n",
        "We all subscribe to many different kinds of businesses through emails because it's required to do so, sometimes to get digital receipts of the things we bought or to get digital information about the business to stay updated. But many of times we do not tend to read an email due to a number of reasons - to name a few would be- no proper structure, too many images, too many links inside the mail, complex vocabulary used or simply too long emails.\n",
        "\n",
        "In this problem statement, we will be trying to create machine learning models that characterize and predict whether the mail is ignored, read or acknowledged by the reader. In addition to this, we will be trying to analyze and find all the features that are important for an email to not get ignored.\n",
        "\n",
        "So let's begin!\n"
      ],
      "metadata": {
        "id": "Y36KB-12iE0Z"
      }
    },
    {
      "cell_type": "code",
      "execution_count": 1,
      "metadata": {
        "colab": {
          "base_uri": "https://localhost:8080/"
        },
        "id": "smPvEfHRh6jI",
        "outputId": "c87ddcba-1e1d-4767-9ddf-aaa9bafebce2"
      },
      "outputs": [
        {
          "output_type": "stream",
          "name": "stderr",
          "text": [
            "/usr/local/lib/python3.7/dist-packages/statsmodels/tools/_testing.py:19: FutureWarning: pandas.util.testing is deprecated. Use the functions in the public API at pandas.testing instead.\n",
            "  import pandas.util.testing as tm\n"
          ]
        }
      ],
      "source": [
        "#Importing important libraries and modules\n",
        "#for data reading and manipulation\n",
        "import pandas as pd\n",
        "import numpy as np\n",
        "\n",
        "#for data visualization\n",
        "import matplotlib as mpl\n",
        "import matplotlib.pyplot as plt\n",
        "%matplotlib inline\n",
        "import seaborn as sns\n",
        "plt.rcParams.update({'figure.figsize':(8,5),'figure.dpi':100})\n",
        "\n",
        "#VIF\n",
        "from statsmodels.stats.outliers_influence import variance_inflation_factor\n",
        "\n",
        "#Modelling\n",
        "#Train-Test Split\n",
        "from sklearn.model_selection import train_test_split\n",
        "#Grid Search for Hyperparameter Tuning\n",
        "from sklearn.model_selection import GridSearchCV\n",
        "\n",
        "#Metrics\n",
        "from sklearn import metrics\n",
        "from sklearn.metrics import accuracy_score, confusion_matrix, precision_score, roc_auc_score, f1_score, recall_score,roc_curve, classification_report\n",
        "\n",
        "#to ignore warnings\n",
        "import warnings    \n",
        "warnings.filterwarnings('ignore')"
      ]
    },
    {
      "cell_type": "code",
      "source": [
        "from google.colab import drive\n",
        "drive.mount('/content/drive')"
      ],
      "metadata": {
        "colab": {
          "base_uri": "https://localhost:8080/"
        },
        "id": "xzho0-K2iXvK",
        "outputId": "1d7f8ba3-9205-4c4c-8741-998c4daa3c87"
      },
      "execution_count": 4,
      "outputs": [
        {
          "output_type": "stream",
          "name": "stdout",
          "text": [
            "Mounted at /content/drive\n"
          ]
        }
      ]
    },
    {
      "cell_type": "code",
      "source": [
        "#Importing the dataset\n",
        "dataset = pd.read_csv('/content/drive/MyDrive/Capstone Project - Email Campaign Effectiveness Prediction/data_email_campaign.csv')"
      ],
      "metadata": {
        "id": "YXyxtp2Cin3E"
      },
      "execution_count": 5,
      "outputs": []
    },
    {
      "cell_type": "code",
      "source": [
        "dataset.head()"
      ],
      "metadata": {
        "colab": {
          "base_uri": "https://localhost:8080/",
          "height": 270
        },
        "id": "UITM0OsmjHeq",
        "outputId": "263b4c39-1311-4db7-dde2-7d7b165eda96"
      },
      "execution_count": 6,
      "outputs": [
        {
          "output_type": "execute_result",
          "data": {
            "text/plain": [
              "            Email_ID  Email_Type  Subject_Hotness_Score  Email_Source_Type  \\\n",
              "0  EMA00081000034500           1                    2.2                  2   \n",
              "1  EMA00081000045360           2                    2.1                  1   \n",
              "2  EMA00081000066290           2                    0.1                  1   \n",
              "3  EMA00081000076560           1                    3.0                  2   \n",
              "4  EMA00081000109720           1                    0.0                  2   \n",
              "\n",
              "  Customer_Location  Email_Campaign_Type  Total_Past_Communications  \\\n",
              "0                 E                    2                       33.0   \n",
              "1               NaN                    2                       15.0   \n",
              "2                 B                    3                       36.0   \n",
              "3                 E                    2                       25.0   \n",
              "4                 C                    3                       18.0   \n",
              "\n",
              "   Time_Email_sent_Category  Word_Count  Total_Links  Total_Images  \\\n",
              "0                         1         440          8.0           0.0   \n",
              "1                         2         504          5.0           0.0   \n",
              "2                         2         962          5.0           0.0   \n",
              "3                         2         610         16.0           0.0   \n",
              "4                         2         947          4.0           0.0   \n",
              "\n",
              "   Email_Status  \n",
              "0             0  \n",
              "1             0  \n",
              "2             1  \n",
              "3             0  \n",
              "4             0  "
            ],
            "text/html": [
              "\n",
              "  <div id=\"df-9a83530b-ac64-483f-ad71-ccbf569fbc7f\">\n",
              "    <div class=\"colab-df-container\">\n",
              "      <div>\n",
              "<style scoped>\n",
              "    .dataframe tbody tr th:only-of-type {\n",
              "        vertical-align: middle;\n",
              "    }\n",
              "\n",
              "    .dataframe tbody tr th {\n",
              "        vertical-align: top;\n",
              "    }\n",
              "\n",
              "    .dataframe thead th {\n",
              "        text-align: right;\n",
              "    }\n",
              "</style>\n",
              "<table border=\"1\" class=\"dataframe\">\n",
              "  <thead>\n",
              "    <tr style=\"text-align: right;\">\n",
              "      <th></th>\n",
              "      <th>Email_ID</th>\n",
              "      <th>Email_Type</th>\n",
              "      <th>Subject_Hotness_Score</th>\n",
              "      <th>Email_Source_Type</th>\n",
              "      <th>Customer_Location</th>\n",
              "      <th>Email_Campaign_Type</th>\n",
              "      <th>Total_Past_Communications</th>\n",
              "      <th>Time_Email_sent_Category</th>\n",
              "      <th>Word_Count</th>\n",
              "      <th>Total_Links</th>\n",
              "      <th>Total_Images</th>\n",
              "      <th>Email_Status</th>\n",
              "    </tr>\n",
              "  </thead>\n",
              "  <tbody>\n",
              "    <tr>\n",
              "      <th>0</th>\n",
              "      <td>EMA00081000034500</td>\n",
              "      <td>1</td>\n",
              "      <td>2.2</td>\n",
              "      <td>2</td>\n",
              "      <td>E</td>\n",
              "      <td>2</td>\n",
              "      <td>33.0</td>\n",
              "      <td>1</td>\n",
              "      <td>440</td>\n",
              "      <td>8.0</td>\n",
              "      <td>0.0</td>\n",
              "      <td>0</td>\n",
              "    </tr>\n",
              "    <tr>\n",
              "      <th>1</th>\n",
              "      <td>EMA00081000045360</td>\n",
              "      <td>2</td>\n",
              "      <td>2.1</td>\n",
              "      <td>1</td>\n",
              "      <td>NaN</td>\n",
              "      <td>2</td>\n",
              "      <td>15.0</td>\n",
              "      <td>2</td>\n",
              "      <td>504</td>\n",
              "      <td>5.0</td>\n",
              "      <td>0.0</td>\n",
              "      <td>0</td>\n",
              "    </tr>\n",
              "    <tr>\n",
              "      <th>2</th>\n",
              "      <td>EMA00081000066290</td>\n",
              "      <td>2</td>\n",
              "      <td>0.1</td>\n",
              "      <td>1</td>\n",
              "      <td>B</td>\n",
              "      <td>3</td>\n",
              "      <td>36.0</td>\n",
              "      <td>2</td>\n",
              "      <td>962</td>\n",
              "      <td>5.0</td>\n",
              "      <td>0.0</td>\n",
              "      <td>1</td>\n",
              "    </tr>\n",
              "    <tr>\n",
              "      <th>3</th>\n",
              "      <td>EMA00081000076560</td>\n",
              "      <td>1</td>\n",
              "      <td>3.0</td>\n",
              "      <td>2</td>\n",
              "      <td>E</td>\n",
              "      <td>2</td>\n",
              "      <td>25.0</td>\n",
              "      <td>2</td>\n",
              "      <td>610</td>\n",
              "      <td>16.0</td>\n",
              "      <td>0.0</td>\n",
              "      <td>0</td>\n",
              "    </tr>\n",
              "    <tr>\n",
              "      <th>4</th>\n",
              "      <td>EMA00081000109720</td>\n",
              "      <td>1</td>\n",
              "      <td>0.0</td>\n",
              "      <td>2</td>\n",
              "      <td>C</td>\n",
              "      <td>3</td>\n",
              "      <td>18.0</td>\n",
              "      <td>2</td>\n",
              "      <td>947</td>\n",
              "      <td>4.0</td>\n",
              "      <td>0.0</td>\n",
              "      <td>0</td>\n",
              "    </tr>\n",
              "  </tbody>\n",
              "</table>\n",
              "</div>\n",
              "      <button class=\"colab-df-convert\" onclick=\"convertToInteractive('df-9a83530b-ac64-483f-ad71-ccbf569fbc7f')\"\n",
              "              title=\"Convert this dataframe to an interactive table.\"\n",
              "              style=\"display:none;\">\n",
              "        \n",
              "  <svg xmlns=\"http://www.w3.org/2000/svg\" height=\"24px\"viewBox=\"0 0 24 24\"\n",
              "       width=\"24px\">\n",
              "    <path d=\"M0 0h24v24H0V0z\" fill=\"none\"/>\n",
              "    <path d=\"M18.56 5.44l.94 2.06.94-2.06 2.06-.94-2.06-.94-.94-2.06-.94 2.06-2.06.94zm-11 1L8.5 8.5l.94-2.06 2.06-.94-2.06-.94L8.5 2.5l-.94 2.06-2.06.94zm10 10l.94 2.06.94-2.06 2.06-.94-2.06-.94-.94-2.06-.94 2.06-2.06.94z\"/><path d=\"M17.41 7.96l-1.37-1.37c-.4-.4-.92-.59-1.43-.59-.52 0-1.04.2-1.43.59L10.3 9.45l-7.72 7.72c-.78.78-.78 2.05 0 2.83L4 21.41c.39.39.9.59 1.41.59.51 0 1.02-.2 1.41-.59l7.78-7.78 2.81-2.81c.8-.78.8-2.07 0-2.86zM5.41 20L4 18.59l7.72-7.72 1.47 1.35L5.41 20z\"/>\n",
              "  </svg>\n",
              "      </button>\n",
              "      \n",
              "  <style>\n",
              "    .colab-df-container {\n",
              "      display:flex;\n",
              "      flex-wrap:wrap;\n",
              "      gap: 12px;\n",
              "    }\n",
              "\n",
              "    .colab-df-convert {\n",
              "      background-color: #E8F0FE;\n",
              "      border: none;\n",
              "      border-radius: 50%;\n",
              "      cursor: pointer;\n",
              "      display: none;\n",
              "      fill: #1967D2;\n",
              "      height: 32px;\n",
              "      padding: 0 0 0 0;\n",
              "      width: 32px;\n",
              "    }\n",
              "\n",
              "    .colab-df-convert:hover {\n",
              "      background-color: #E2EBFA;\n",
              "      box-shadow: 0px 1px 2px rgba(60, 64, 67, 0.3), 0px 1px 3px 1px rgba(60, 64, 67, 0.15);\n",
              "      fill: #174EA6;\n",
              "    }\n",
              "\n",
              "    [theme=dark] .colab-df-convert {\n",
              "      background-color: #3B4455;\n",
              "      fill: #D2E3FC;\n",
              "    }\n",
              "\n",
              "    [theme=dark] .colab-df-convert:hover {\n",
              "      background-color: #434B5C;\n",
              "      box-shadow: 0px 1px 3px 1px rgba(0, 0, 0, 0.15);\n",
              "      filter: drop-shadow(0px 1px 2px rgba(0, 0, 0, 0.3));\n",
              "      fill: #FFFFFF;\n",
              "    }\n",
              "  </style>\n",
              "\n",
              "      <script>\n",
              "        const buttonEl =\n",
              "          document.querySelector('#df-9a83530b-ac64-483f-ad71-ccbf569fbc7f button.colab-df-convert');\n",
              "        buttonEl.style.display =\n",
              "          google.colab.kernel.accessAllowed ? 'block' : 'none';\n",
              "\n",
              "        async function convertToInteractive(key) {\n",
              "          const element = document.querySelector('#df-9a83530b-ac64-483f-ad71-ccbf569fbc7f');\n",
              "          const dataTable =\n",
              "            await google.colab.kernel.invokeFunction('convertToInteractive',\n",
              "                                                     [key], {});\n",
              "          if (!dataTable) return;\n",
              "\n",
              "          const docLinkHtml = 'Like what you see? Visit the ' +\n",
              "            '<a target=\"_blank\" href=https://colab.research.google.com/notebooks/data_table.ipynb>data table notebook</a>'\n",
              "            + ' to learn more about interactive tables.';\n",
              "          element.innerHTML = '';\n",
              "          dataTable['output_type'] = 'display_data';\n",
              "          await google.colab.output.renderOutput(dataTable, element);\n",
              "          const docLink = document.createElement('div');\n",
              "          docLink.innerHTML = docLinkHtml;\n",
              "          element.appendChild(docLink);\n",
              "        }\n",
              "      </script>\n",
              "    </div>\n",
              "  </div>\n",
              "  "
            ]
          },
          "metadata": {},
          "execution_count": 6
        }
      ]
    },
    {
      "cell_type": "code",
      "source": [
        "dataset.info()"
      ],
      "metadata": {
        "colab": {
          "base_uri": "https://localhost:8080/"
        },
        "id": "99IdNXAwjKOF",
        "outputId": "29830894-4168-49cb-c6f0-2fc45f546c73"
      },
      "execution_count": 7,
      "outputs": [
        {
          "output_type": "stream",
          "name": "stdout",
          "text": [
            "<class 'pandas.core.frame.DataFrame'>\n",
            "RangeIndex: 68353 entries, 0 to 68352\n",
            "Data columns (total 12 columns):\n",
            " #   Column                     Non-Null Count  Dtype  \n",
            "---  ------                     --------------  -----  \n",
            " 0   Email_ID                   68353 non-null  object \n",
            " 1   Email_Type                 68353 non-null  int64  \n",
            " 2   Subject_Hotness_Score      68353 non-null  float64\n",
            " 3   Email_Source_Type          68353 non-null  int64  \n",
            " 4   Customer_Location          56758 non-null  object \n",
            " 5   Email_Campaign_Type        68353 non-null  int64  \n",
            " 6   Total_Past_Communications  61528 non-null  float64\n",
            " 7   Time_Email_sent_Category   68353 non-null  int64  \n",
            " 8   Word_Count                 68353 non-null  int64  \n",
            " 9   Total_Links                66152 non-null  float64\n",
            " 10  Total_Images               66676 non-null  float64\n",
            " 11  Email_Status               68353 non-null  int64  \n",
            "dtypes: float64(4), int64(6), object(2)\n",
            "memory usage: 6.3+ MB\n"
          ]
        }
      ]
    },
    {
      "cell_type": "markdown",
      "source": [
        "##Data Summary:\n",
        "Our email campaign dataset have 68353 observations and 12 features. Clearly Email_Status is our target variable.\n",
        "\n",
        "Our features:\n",
        "* **Email Id** - It contains the email id's of the customers/individuals\n",
        "* **Email Type** - There are two categories 1 and 2. We can think of them as marketing emails or important updates, notices like emails regarding the business.\n",
        "* **Subject Hotness Score** - It is the email's subject's score on the basis of how good and effective the content is.\n",
        "* **Email Source** - It represents the source of the email like sales and marketing or important admin mails related to the product.\n",
        "* **Email Campaign Type** - The campaign type of the email.\n",
        "* **Total Past Communications** - This column contains the total previous mails from the same source, the number of communications had.\n",
        "* **Customer Location** - Contains demographical data of the customer, the location where the customer resides.\n",
        "* **Time Email sent Category** - It has three categories 1,2 and 3; the time of the day when the email was sent, we can think of it as morning, evening and night time slots.\n",
        "* **Word Count** - The number of words contained in the email.\n",
        "* **Total links** - Number of links in the email.\n",
        "* **Total Images** - Number of images in the email.\n",
        "* **Email Status** - Our target variable which contains whether the mail was ignored, read, acknowledged by the reader."
      ],
      "metadata": {
        "id": "zDZUf9AojRYl"
      }
    },
    {
      "cell_type": "markdown",
      "source": [
        "##**Data Cleaning and PreProcessing:**\n",
        "\n",
        "When we have raw data, it may contain missing values, NaN values or absurd values. It is necessary to check and handle these values before feeding it to the models, so as to obtain good insights on what the data is trying to say and make great characterisation and prediction which will in turn help improve the business's content. "
      ],
      "metadata": {
        "id": "QPhJ_do_jVl8"
      }
    },
    {
      "cell_type": "code",
      "source": [
        "#get the num of nulls in each column\n",
        "dataset.isnull().sum()"
      ],
      "metadata": {
        "colab": {
          "base_uri": "https://localhost:8080/"
        },
        "id": "KJoFwlaxjO4D",
        "outputId": "d709ed8e-71da-41b0-b8a3-c882e179d7ca"
      },
      "execution_count": 8,
      "outputs": [
        {
          "output_type": "execute_result",
          "data": {
            "text/plain": [
              "Email_ID                         0\n",
              "Email_Type                       0\n",
              "Subject_Hotness_Score            0\n",
              "Email_Source_Type                0\n",
              "Customer_Location            11595\n",
              "Email_Campaign_Type              0\n",
              "Total_Past_Communications     6825\n",
              "Time_Email_sent_Category         0\n",
              "Word_Count                       0\n",
              "Total_Links                   2201\n",
              "Total_Images                  1677\n",
              "Email_Status                     0\n",
              "dtype: int64"
            ]
          },
          "metadata": {},
          "execution_count": 8
        }
      ]
    },
    {
      "cell_type": "markdown",
      "source": [
        "We have a lot of nulls in the following columns:\n",
        "* Customer Location\n",
        "* Total Past Communications\n",
        "* Total Links\n",
        "* Total Images\n",
        "\n",
        "\n",
        "But particularly customer location has a lot of them. Since it is a categorical column and it is difficult to just impute them with our understanding of where the customer's location is, we'll see how much it affects our target variable, whether a particular location has anything to do with it or it is not correlated at all and accordingly we can decide on it later on.\n",
        "Let's fill up the null values in other columns."
      ],
      "metadata": {
        "id": "fZZG5AqCjcs1"
      }
    },
    {
      "cell_type": "code",
      "source": [
        "#let's see the distribution of Total Past Communications to get what majority of the data tends to so that we can fill it accordingly\n",
        "sns.distplot(x=dataset['Total_Past_Communications'], hist = True)"
      ],
      "metadata": {
        "colab": {
          "base_uri": "https://localhost:8080/",
          "height": 282
        },
        "id": "4i9IwFq5jZqs",
        "outputId": "2768fdce-6116-45a3-ebed-50caf8d33765"
      },
      "execution_count": 9,
      "outputs": [
        {
          "output_type": "execute_result",
          "data": {
            "text/plain": [
              "<matplotlib.axes._subplots.AxesSubplot at 0x7f4f5b0de2d0>"
            ]
          },
          "metadata": {},
          "execution_count": 9
        },
        {
          "output_type": "display_data",
          "data": {
            "text/plain": [
              "<Figure size 432x288 with 1 Axes>"
            ],
            "image/png": "[encoded data removed]"
          },
          "metadata": {
            "needs_background": "light"
          }
        }
      ]
    },
    {
      "cell_type": "markdown",
      "source": [
        "We have kind of a normal ditribution for Total Past Communications and it will be fine, if we use mean to fill up the null values of this column."
      ],
      "metadata": {
        "id": "eLn_kCY1js1v"
      }
    },
    {
      "cell_type": "code",
      "source": [
        "#filling up the null values for total past comm\n",
        "dataset['Total_Past_Communications'].fillna(dataset['Total_Past_Communications'].mean(), inplace = True)"
      ],
      "metadata": {
        "id": "hd6SrMu-jmms"
      },
      "execution_count": 10,
      "outputs": []
    },
    {
      "cell_type": "code",
      "source": [
        "#let's see the distribution of Total Links to get what majority of the data tends to so that we can fill it accordingly\n",
        "sns.distplot(x=dataset['Total_Links'], hist= True)"
      ],
      "metadata": {
        "colab": {
          "base_uri": "https://localhost:8080/",
          "height": 282
        },
        "id": "oDjrkpwHjx3K",
        "outputId": "324cd038-f108-4fd5-c8aa-8af81dbd3fa4"
      },
      "execution_count": 12,
      "outputs": [
        {
          "output_type": "execute_result",
          "data": {
            "text/plain": [
              "<matplotlib.axes._subplots.AxesSubplot at 0x7f4f58ac6c50>"
            ]
          },
          "metadata": {},
          "execution_count": 12
        },
        {
          "output_type": "display_data",
          "data": {
            "text/plain": [
              "<Figure size 432x288 with 1 Axes>"
            ],
            "image/png": "[encoded data removed]"
          },
          "metadata": {
            "needs_background": "light"
          }
        }
      ]
    },
    {
      "cell_type": "markdown",
      "source": [
        "It seems like most of the values of the Total Links in the column are between 0-10 and the distribution is skewed on the right. Mode is more robust to outlier effect."
      ],
      "metadata": {
        "id": "fFALJ2CDj6mF"
      }
    },
    {
      "cell_type": "code",
      "source": [
        "#filling up the Total Links Column\n",
        "dataset['Total_Links'].fillna(dataset['Total_Links'].mode()[0], inplace = True)"
      ],
      "metadata": {
        "id": "rF0znx1Dj1b7"
      },
      "execution_count": 14,
      "outputs": []
    },
    {
      "cell_type": "code",
      "source": [
        "#total image distribution\n",
        "sns.distplot(x=dataset['Total_Images'], hist=True)"
      ],
      "metadata": {
        "colab": {
          "base_uri": "https://localhost:8080/",
          "height": 282
        },
        "id": "arC9lfJwj90v",
        "outputId": "6a20e07c-727e-4856-da3f-187385bb6082"
      },
      "execution_count": 16,
      "outputs": [
        {
          "output_type": "execute_result",
          "data": {
            "text/plain": [
              "<matplotlib.axes._subplots.AxesSubplot at 0x7f4f58a7e890>"
            ]
          },
          "metadata": {},
          "execution_count": 16
        },
        {
          "output_type": "display_data",
          "data": {
            "text/plain": [
              "<Figure size 432x288 with 1 Axes>"
            ],
            "image/png": "[encoded data removed]"
          },
          "metadata": {
            "needs_background": "light"
          }
        }
      ]
    },
    {
      "cell_type": "markdown",
      "source": [
        "The number of images in most of the emails seems to be 0 or fewer than 3-4. It would be wise to fill the null values with mode values."
      ],
      "metadata": {
        "id": "9Ciy8BhdkIXK"
      }
    },
    {
      "cell_type": "code",
      "source": [
        "#filling up the Total Images Column\n",
        "dataset['Total_Images'].fillna(dataset['Total_Images'].mode()[0], inplace = True)"
      ],
      "metadata": {
        "id": "jBrDhIIlkDAy"
      },
      "execution_count": 19,
      "outputs": []
    },
    {
      "cell_type": "code",
      "source": [
        "#check for duplicates\n",
        "dataset.duplicated().sum()"
      ],
      "metadata": {
        "colab": {
          "base_uri": "https://localhost:8080/"
        },
        "id": "bx-BmeovkKDs",
        "outputId": "18672988-4273-4ad8-c7b9-54af16e4df48"
      },
      "execution_count": 20,
      "outputs": [
        {
          "output_type": "execute_result",
          "data": {
            "text/plain": [
              "0"
            ]
          },
          "metadata": {},
          "execution_count": 20
        }
      ]
    },
    {
      "cell_type": "markdown",
      "source": [
        "##**Exploratory Data Analysis**:\n",
        "\n",
        "\n",
        "Exploratory data analysis is an important part of data analysis. It involves exploring and analyzing the dataset given to find out patterns, trends and conclusions to take better decisions related to the data. In this section, we will be trying to obtain those features which help our emails not get ignored.\n",
        "\n",
        "We will explore every feature against our target variable and analyze it's influence on it.\n",
        "\n",
        "####Categorical Variables:\n",
        "We have six categorical variables Email Type, Email Source, Email Campaign Type, Time Email sent Category, Customer Location and Email Status. We should keep in mind that we have a lot of null values in Customer Location feature and after analysing it's influence on our target variable, we will fill it accordingly or remove it. If a particular location is influencing our target variables and aiding in to getting it ignored or otherwise, it should be filled on a condition (on Email Status) row wise.\n",
        "\n",
        "####Continuous Variables:\n",
        "Our continuous variables include Subject Hotness Score, Total Past Communications, Word Count, Total Links and Total Images. "
      ],
      "metadata": {
        "id": "Qee1yoYokko0"
      }
    },
    {
      "cell_type": "code",
      "source": [
        "#starting with categorical variables\n",
        "categorical_variables = ['Email_Type','Email_Source_Type','Customer_Location','Email_Campaign_Type','Time_Email_sent_Category']\n",
        "Target_var = ['Email_Status']\n",
        "\n",
        "for i,value in enumerate(categorical_variables):\n",
        "  ax = sns.countplot(x=dataset[value], hue=dataset[Target_var[0]])\n",
        "  unique = len([x for x in dataset[value].unique() if x==x])\n",
        "  bars = ax.patches\n",
        "  for i in range(unique):\n",
        "      catbars=bars[i:][::unique]\n",
        "      #get height\n",
        "      total = sum([x.get_height() for x in catbars])\n",
        "      #print percentage\n",
        "      for bar in catbars:\n",
        "        ax.text(bar.get_x()+bar.get_width()/2.,\n",
        "                    bar.get_height(),\n",
        "                    f'{bar.get_height()/total:.0%}',\n",
        "                    ha=\"center\",va=\"bottom\")\n",
        "  plt.show()\n",
        "              "
      ],
      "metadata": {
        "colab": {
          "base_uri": "https://localhost:8080/",
          "height": 1000
        },
        "id": "mrE5BL2ZkP-V",
        "outputId": "21be7349-e1be-4a35-dfe3-0fff5c169126"
      },
      "execution_count": 21,
      "outputs": [
        {
          "output_type": "display_data",
          "data": {
            "text/plain": [
              "<Figure size 432x288 with 1 Axes>"
            ],
            "image/png": "[encoded data removed]"
          },
          "metadata": {
            "needs_background": "light"
          }
        },
        {
          "output_type": "display_data",
          "data": {
            "text/plain": [
              "<Figure size 432x288 with 1 Axes>"
            ],
            "image/png": "[encoded data removed]"
          },
          "metadata": {
            "needs_background": "light"
          }
        },
        {
          "output_type": "display_data",
          "data": {
            "text/plain": [
              "<Figure size 432x288 with 1 Axes>"
            ],
            "image/png": "[encoded data removed]"
          },
          "metadata": {
            "needs_background": "light"
          }
        },
        {
          "output_type": "display_data",
          "data": {
            "text/plain": [
              "<Figure size 432x288 with 1 Axes>"
            ],
            "image/png": "[encoded data removed]"
          },
          "metadata": {
            "needs_background": "light"
          }
        },
        {
          "output_type": "display_data",
          "data": {
            "text/plain": [
              "<Figure size 432x288 with 1 Axes>"
            ],
            "image/png": "[encoded data removed]"
          },
          "metadata": {
            "needs_background": "light"
          }
        }
      ]
    },
    {
      "cell_type": "markdown",
      "source": [
        "**Observation:** \n",
        "\n",
        "* The email type 1 which may be considered as promotional emails are sent more than email type 2 and hence are read and acknowledged more than the other type otherwise the proportion of ignored, read, acknowledged emails are kind of same in both email types.\n",
        "\n",
        "* Email source type shows kind of a similar pattern for both the categories.\n",
        "\n",
        "* In the customer location feature we can find that irrespective of the location, the percentage ratio of emails being ignored, read and acknowledge are kind of similar. It does not exclusively influence our target variable. It would be better to not consider location as factor in people ignoring, reading or acknowledging our emails. Other factors should be responsible in why people are ignoring the emails not location.\n",
        "\n",
        "* In the Email Campaign Type feature, it seems like in campaign type 1 very few emails were sent but has a very high likelihood of getting read. Most emails were sent under email campaign type 2 and most ignored. Seems like campaign 3 was a success as even when less number of emails were sent under campaign 3, more emails were read and acknowledged.\n",
        "\n",
        "* If we consider 1 annd 3 as morning and night category in time email sent feature, it is obvious to think 2 as middle of the day and as expected there were more emails sent under 2nd category than either of the others, sending emails in the middle of the day could lead to reading and opening the email as people are generally working at that time and they frequently checkup their emails, but it cannot be considered as the major factor in leading to acknowledged emails.\n",
        "\n",
        "\n"
      ],
      "metadata": {
        "id": "l4SYmB-7lt5w"
      }
    },
    {
      "cell_type": "code",
      "source": [
        "#continuous variables\n",
        "#distribution of other continuous features and understanding where the data tends to\n",
        "cont_var = ['Word_Count','Subject_Hotness_Score']\n",
        "for i, value in enumerate(cont_var):\n",
        " sns.distplot(x=dataset[value], hist = True)\n",
        " plt.show()"
      ],
      "metadata": {
        "colab": {
          "base_uri": "https://localhost:8080/",
          "height": 513
        },
        "id": "1eMcKIO8kvbt",
        "outputId": "b1342a01-7207-40f6-827e-fa794be12ac5"
      },
      "execution_count": 22,
      "outputs": [
        {
          "output_type": "display_data",
          "data": {
            "text/plain": [
              "<Figure size 432x288 with 1 Axes>"
            ],
            "image/png": "[encoded data removed]"
          },
          "metadata": {
            "needs_background": "light"
          }
        },
        {
          "output_type": "display_data",
          "data": {
            "text/plain": [
              "<Figure size 432x288 with 1 Axes>"
            ],
            "image/png": "[encoded data removed]"
          },
          "metadata": {
            "needs_background": "light"
          }
        }
      ]
    },
    {
      "cell_type": "markdown",
      "source": [
        "We already saw the distribution plots of Total Links, Total Images and Total Past Communications earlier. Here we see that Word Count just as Total Past Communications has a normal distribution. All of the rest are rightly skewed which indicates the presence of outliers."
      ],
      "metadata": {
        "id": "l2XVHqOsnQDP"
      }
    },
    {
      "cell_type": "code",
      "source": [
        "#continuous variables through boxplots\n",
        "cont_var = ['Subject_Hotness_Score', 'Total_Past_Communications','Word_Count','Total_Links','Total_Images']\n",
        "for i, value in enumerate(cont_var):\n",
        " sns.boxplot(x=dataset['Email_Status'], y= dataset[value])\n",
        " plt.show()\n"
      ],
      "metadata": {
        "colab": {
          "base_uri": "https://localhost:8080/",
          "height": 1000
        },
        "id": "rgWE_iAEl1vQ",
        "outputId": "de834f1c-905e-4e28-e37f-9c6ac7b51cf0"
      },
      "execution_count": 23,
      "outputs": [
        {
          "output_type": "display_data",
          "data": {
            "text/plain": [
              "<Figure size 432x288 with 1 Axes>"
            ],
            "image/png": "[encoded data removed]"
          },
          "metadata": {
            "needs_background": "light"
          }
        },
        {
          "output_type": "display_data",
          "data": {
            "text/plain": [
              "<Figure size 432x288 with 1 Axes>"
            ],
            "image/png": "[encoded data removed]"
          },
          "metadata": {
            "needs_background": "light"
          }
        },
        {
          "output_type": "display_data",
          "data": {
            "text/plain": [
              "<Figure size 432x288 with 1 Axes>"
            ],
            "image/png": "[encoded data removed]"
          },
          "metadata": {
            "needs_background": "light"
          }
        },
        {
          "output_type": "display_data",
          "data": {
            "text/plain": [
              "<Figure size 432x288 with 1 Axes>"
            ],
            "image/png": "[encoded data removed]"
          },
          "metadata": {
            "needs_background": "light"
          }
        },
        {
          "output_type": "display_data",
          "data": {
            "text/plain": [
              "<Figure size 432x288 with 1 Axes>"
            ],
            "image/png": "[encoded data removed]"
          },
          "metadata": {
            "needs_background": "light"
          }
        }
      ]
    },
    {
      "cell_type": "markdown",
      "source": [
        "**Observation:**\n",
        "\n",
        "* In the subject hotness score, median of ignored emails was around 1 with a few outliers. Acknowledged emails has the most outliers. It is observed that the Subject_Hotness_Score for read and acknowledged emails are much lower.\n",
        "\n",
        "\n",
        "* Analyzing total past communications, we can see that the more the number of previous emails, the more it leads to read and acknowledged emails. This is just about making connection with your customers.\n",
        "\n",
        "* The more the words in an email, the more it has a tendency to get ignored. Too lengthy emails are getting ignored.\n",
        "\n",
        "* The median is kind of similar in all of the three cases in total links feature with a number of outliers.\n",
        "\n",
        "* More images were there in ignored emails.\n",
        "\n",
        "* There are considerable number of outliers in Subject_Hotness_Score, Total_Links and Total_Images."
      ],
      "metadata": {
        "id": "T9sShuuLn9A5"
      }
    },
    {
      "cell_type": "markdown",
      "source": [
        "**Correlation:**\n",
        "To get an understanding of how much correlated, positively or negatively our features is with our target variable, we will be creating a correlation matrix.\n",
        "\n",
        "We will be removing Customer location and Email Id features. They will not contribute in deciding whether a customer will ignore, read, acknowledge the email.\n",
        "Let's get to it.\n",
        "\n"
      ],
      "metadata": {
        "id": "YmzVz_uUoCA5"
      }
    },
    {
      "cell_type": "code",
      "source": [
        "#dropping columns\n",
        "columns_to_drop = ['Email_ID','Customer_Location']\n",
        "df = dataset.drop(columns_to_drop,axis=1)"
      ],
      "metadata": {
        "id": "W252AJ6NndXq"
      },
      "execution_count": 24,
      "outputs": []
    },
    {
      "cell_type": "code",
      "source": [
        "#correlation matrix\n",
        "plt.figure(figsize=(14,9))\n",
        "sns.heatmap(df.corr(), cmap='Blues_r', annot=True)"
      ],
      "metadata": {
        "colab": {
          "base_uri": "https://localhost:8080/",
          "height": 686
        },
        "id": "SEUoi8VkoIoK",
        "outputId": "35fdd974-3e00-44b7-a837-544278da31ca"
      },
      "execution_count": 25,
      "outputs": [
        {
          "output_type": "execute_result",
          "data": {
            "text/plain": [
              "<matplotlib.axes._subplots.AxesSubplot at 0x7f4f582486d0>"
            ]
          },
          "metadata": {},
          "execution_count": 25
        },
        {
          "output_type": "display_data",
          "data": {
            "text/plain": [
              "<Figure size 1008x648 with 2 Axes>"
            ],
            "image/png": "[encoded data removed]"
          },
          "metadata": {
            "needs_background": "light"
          }
        }
      ]
    },
    {
      "cell_type": "markdown",
      "source": [
        "**Observation:**\n",
        "Correlation matrix justifies our earlier hypotheses. Email Campaign Type and Total past communication shows positive correlation with emails being read and acknowledged.\n",
        "Word Count and Subject Hotness score are the most negatives amongst other. We can see multicollinearity involved in Email Campaign Type, Total past communication and Total links, Total Images among others and we will have to deal with it.\n"
      ],
      "metadata": {
        "id": "PE-t4y6ZoQ1B"
      }
    },
    {
      "cell_type": "markdown",
      "source": [
        "##Data Manipulation and Feature Engineering:\n",
        "Data manipulation involves manipulating and changing our dataset before feeding it to various clasification machine learning models. This involves keeping important features handling multicollinearity in the dataset, outlier treatment and creating dummy variables if necessary.\n",
        "\n",
        "We have outliers in our dataset as we saw it earlier in data exploration but as the classes are imbalanced and we cannot also risk overfitting, so we will be exploring how many outliers we have in each class and then decide whether we should keep them or get rid of them.\n",
        "\n"
      ],
      "metadata": {
        "id": "X717zKNfpB2I"
      }
    },
    {
      "cell_type": "markdown",
      "source": [
        "**Multicollinearity and Feature Selection:**\n",
        "\n",
        "Multicollinearity occurs when two or more independent continuous features in the dataset are highly correlated and can help predict each other and the dependent variable. This makes it difficult to individually analyse the affect of these individual independent variables on the target or dependent variable.\n",
        "\n",
        "We can quantify multicollinearity using Variance Inflation Factors (VIF).\n",
        "\n",
        "VIF = 1/(1-R^2) \n",
        "The more the value of R^2 is closer to 1 the more, VIF score tends to infinity.\n",
        "VIF starts with 1 and denotes that the variable has no correlation at all.\n",
        "VIF more than 5-10 can be considered as serious case of multicollinearity and can affect prediction models."
      ],
      "metadata": {
        "id": "ATsc7ekppE1F"
      }
    },
    {
      "cell_type": "code",
      "source": [
        "#VIF code\n",
        "def vif_calc(df):\n",
        "  vif = pd.DataFrame()\n",
        "  vif[\"variables\"] = df.columns\n",
        "  vif[\"VIF\"] = [variance_inflation_factor(df.values, i) for i in range(df.shape[1])]\n",
        "  return(vif)"
      ],
      "metadata": {
        "id": "JGUCY198oLLW"
      },
      "execution_count": 26,
      "outputs": []
    },
    {
      "cell_type": "code",
      "source": [
        "#let's get VIF scores\n",
        "vif_df = vif_calc(df[[i for i in df.describe().columns if i not in categorical_variables + ['Email_Status']]])\n",
        "vif_df"
      ],
      "metadata": {
        "colab": {
          "base_uri": "https://localhost:8080/",
          "height": 206
        },
        "id": "5ikFpc0spHrl",
        "outputId": "3078cdf4-bdbc-45f6-84c8-a1c7adb99fcb"
      },
      "execution_count": 27,
      "outputs": [
        {
          "output_type": "execute_result",
          "data": {
            "text/plain": [
              "                   variables       VIF\n",
              "0      Subject_Hotness_Score  1.805701\n",
              "1  Total_Past_Communications  3.939214\n",
              "2                 Word_Count  4.065844\n",
              "3                Total_Links  8.690857\n",
              "4               Total_Images  3.171439"
            ],
            "text/html": [
              "\n",
              "  <div id=\"df-9d7f7b23-f55c-49ba-b1d4-b089e9d63445\">\n",
              "    <div class=\"colab-df-container\">\n",
              "      <div>\n",
              "<style scoped>\n",
              "    .dataframe tbody tr th:only-of-type {\n",
              "        vertical-align: middle;\n",
              "    }\n",
              "\n",
              "    .dataframe tbody tr th {\n",
              "        vertical-align: top;\n",
              "    }\n",
              "\n",
              "    .dataframe thead th {\n",
              "        text-align: right;\n",
              "    }\n",
              "</style>\n",
              "<table border=\"1\" class=\"dataframe\">\n",
              "  <thead>\n",
              "    <tr style=\"text-align: right;\">\n",
              "      <th></th>\n",
              "      <th>variables</th>\n",
              "      <th>VIF</th>\n",
              "    </tr>\n",
              "  </thead>\n",
              "  <tbody>\n",
              "    <tr>\n",
              "      <th>0</th>\n",
              "      <td>Subject_Hotness_Score</td>\n",
              "      <td>1.805701</td>\n",
              "    </tr>\n",
              "    <tr>\n",
              "      <th>1</th>\n",
              "      <td>Total_Past_Communications</td>\n",
              "      <td>3.939214</td>\n",
              "    </tr>\n",
              "    <tr>\n",
              "      <th>2</th>\n",
              "      <td>Word_Count</td>\n",
              "      <td>4.065844</td>\n",
              "    </tr>\n",
              "    <tr>\n",
              "      <th>3</th>\n",
              "      <td>Total_Links</td>\n",
              "      <td>8.690857</td>\n",
              "    </tr>\n",
              "    <tr>\n",
              "      <th>4</th>\n",
              "      <td>Total_Images</td>\n",
              "      <td>3.171439</td>\n",
              "    </tr>\n",
              "  </tbody>\n",
              "</table>\n",
              "</div>\n",
              "      <button class=\"colab-df-convert\" onclick=\"convertToInteractive('df-9d7f7b23-f55c-49ba-b1d4-b089e9d63445')\"\n",
              "              title=\"Convert this dataframe to an interactive table.\"\n",
              "              style=\"display:none;\">\n",
              "        \n",
              "  <svg xmlns=\"http://www.w3.org/2000/svg\" height=\"24px\"viewBox=\"0 0 24 24\"\n",
              "       width=\"24px\">\n",
              "    <path d=\"M0 0h24v24H0V0z\" fill=\"none\"/>\n",
              "    <path d=\"M18.56 5.44l.94 2.06.94-2.06 2.06-.94-2.06-.94-.94-2.06-.94 2.06-2.06.94zm-11 1L8.5 8.5l.94-2.06 2.06-.94-2.06-.94L8.5 2.5l-.94 2.06-2.06.94zm10 10l.94 2.06.94-2.06 2.06-.94-2.06-.94-.94-2.06-.94 2.06-2.06.94z\"/><path d=\"M17.41 7.96l-1.37-1.37c-.4-.4-.92-.59-1.43-.59-.52 0-1.04.2-1.43.59L10.3 9.45l-7.72 7.72c-.78.78-.78 2.05 0 2.83L4 21.41c.39.39.9.59 1.41.59.51 0 1.02-.2 1.41-.59l7.78-7.78 2.81-2.81c.8-.78.8-2.07 0-2.86zM5.41 20L4 18.59l7.72-7.72 1.47 1.35L5.41 20z\"/>\n",
              "  </svg>\n",
              "      </button>\n",
              "      \n",
              "  <style>\n",
              "    .colab-df-container {\n",
              "      display:flex;\n",
              "      flex-wrap:wrap;\n",
              "      gap: 12px;\n",
              "    }\n",
              "\n",
              "    .colab-df-convert {\n",
              "      background-color: #E8F0FE;\n",
              "      border: none;\n",
              "      border-radius: 50%;\n",
              "      cursor: pointer;\n",
              "      display: none;\n",
              "      fill: #1967D2;\n",
              "      height: 32px;\n",
              "      padding: 0 0 0 0;\n",
              "      width: 32px;\n",
              "    }\n",
              "\n",
              "    .colab-df-convert:hover {\n",
              "      background-color: #E2EBFA;\n",
              "      box-shadow: 0px 1px 2px rgba(60, 64, 67, 0.3), 0px 1px 3px 1px rgba(60, 64, 67, 0.15);\n",
              "      fill: #174EA6;\n",
              "    }\n",
              "\n",
              "    [theme=dark] .colab-df-convert {\n",
              "      background-color: #3B4455;\n",
              "      fill: #D2E3FC;\n",
              "    }\n",
              "\n",
              "    [theme=dark] .colab-df-convert:hover {\n",
              "      background-color: #434B5C;\n",
              "      box-shadow: 0px 1px 3px 1px rgba(0, 0, 0, 0.15);\n",
              "      filter: drop-shadow(0px 1px 2px rgba(0, 0, 0, 0.3));\n",
              "      fill: #FFFFFF;\n",
              "    }\n",
              "  </style>\n",
              "\n",
              "      <script>\n",
              "        const buttonEl =\n",
              "          document.querySelector('#df-9d7f7b23-f55c-49ba-b1d4-b089e9d63445 button.colab-df-convert');\n",
              "        buttonEl.style.display =\n",
              "          google.colab.kernel.accessAllowed ? 'block' : 'none';\n",
              "\n",
              "        async function convertToInteractive(key) {\n",
              "          const element = document.querySelector('#df-9d7f7b23-f55c-49ba-b1d4-b089e9d63445');\n",
              "          const dataTable =\n",
              "            await google.colab.kernel.invokeFunction('convertToInteractive',\n",
              "                                                     [key], {});\n",
              "          if (!dataTable) return;\n",
              "\n",
              "          const docLinkHtml = 'Like what you see? Visit the ' +\n",
              "            '<a target=\"_blank\" href=https://colab.research.google.com/notebooks/data_table.ipynb>data table notebook</a>'\n",
              "            + ' to learn more about interactive tables.';\n",
              "          element.innerHTML = '';\n",
              "          dataTable['output_type'] = 'display_data';\n",
              "          await google.colab.output.renderOutput(dataTable, element);\n",
              "          const docLink = document.createElement('div');\n",
              "          docLink.innerHTML = docLinkHtml;\n",
              "          element.appendChild(docLink);\n",
              "        }\n",
              "      </script>\n",
              "    </div>\n",
              "  </div>\n",
              "  "
            ]
          },
          "metadata": {},
          "execution_count": 27
        }
      ]
    },
    {
      "cell_type": "markdown",
      "source": [
        "We can see that only Total Links is higher than 5. Earlier we saw that Total Images and Total Links are highly correlated to each other with a score of 0.75. We can try combining both of these or deleting one of these."
      ],
      "metadata": {
        "id": "e8iYFHIkpNcQ"
      }
    },
    {
      "cell_type": "code",
      "source": [
        "#scatter plot between images and links, shows a linear relationship\n",
        "sns.scatterplot(x=df[\"Total_Images\"],y=df[\"Total_Links\"],hue=df['Email_Status']) #it shows the collinearity"
      ],
      "metadata": {
        "colab": {
          "base_uri": "https://localhost:8080/",
          "height": 297
        },
        "id": "XUtPAVxapJhJ",
        "outputId": "3e0f83dd-e0a6-49d8-a5ec-18f634f8b123"
      },
      "execution_count": 28,
      "outputs": [
        {
          "output_type": "execute_result",
          "data": {
            "text/plain": [
              "<matplotlib.axes._subplots.AxesSubplot at 0x7f4f581ac090>"
            ]
          },
          "metadata": {},
          "execution_count": 28
        },
        {
          "output_type": "display_data",
          "data": {
            "text/plain": [
              "<Figure size 432x288 with 1 Axes>"
            ],
            "image/png": "[encoded data removed]"
          },
          "metadata": {
            "needs_background": "light"
          }
        }
      ]
    },
    {
      "cell_type": "code",
      "source": [
        "#we can try combining them up\n",
        "df['Total_Img_links'] = df['Total_Images'] + df['Total_Links']\n",
        "df.drop(['Total_Images','Total_Links'],inplace=True,axis=1)"
      ],
      "metadata": {
        "id": "DoN6CiLepYfP"
      },
      "execution_count": 29,
      "outputs": []
    },
    {
      "cell_type": "code",
      "source": [
        "#let's check VIF scores\n",
        "vif_df = vif_calc(df[[i for i in df.describe().columns if i not in categorical_variables + ['Email_Status']]])\n",
        "vif_df"
      ],
      "metadata": {
        "colab": {
          "base_uri": "https://localhost:8080/",
          "height": 175
        },
        "id": "JswVvUTSpnse",
        "outputId": "249d7680-d859-43fc-f978-c8989aba86a6"
      },
      "execution_count": 30,
      "outputs": [
        {
          "output_type": "execute_result",
          "data": {
            "text/plain": [
              "                   variables       VIF\n",
              "0      Subject_Hotness_Score  1.734531\n",
              "1  Total_Past_Communications  3.430879\n",
              "2                 Word_Count  3.687067\n",
              "3            Total_Img_links  2.629047"
            ],
            "text/html": [
              "\n",
              "  <div id=\"df-958e5da0-c078-4743-923f-5a2e6159dec9\">\n",
              "    <div class=\"colab-df-container\">\n",
              "      <div>\n",
              "<style scoped>\n",
              "    .dataframe tbody tr th:only-of-type {\n",
              "        vertical-align: middle;\n",
              "    }\n",
              "\n",
              "    .dataframe tbody tr th {\n",
              "        vertical-align: top;\n",
              "    }\n",
              "\n",
              "    .dataframe thead th {\n",
              "        text-align: right;\n",
              "    }\n",
              "</style>\n",
              "<table border=\"1\" class=\"dataframe\">\n",
              "  <thead>\n",
              "    <tr style=\"text-align: right;\">\n",
              "      <th></th>\n",
              "      <th>variables</th>\n",
              "      <th>VIF</th>\n",
              "    </tr>\n",
              "  </thead>\n",
              "  <tbody>\n",
              "    <tr>\n",
              "      <th>0</th>\n",
              "      <td>Subject_Hotness_Score</td>\n",
              "      <td>1.734531</td>\n",
              "    </tr>\n",
              "    <tr>\n",
              "      <th>1</th>\n",
              "      <td>Total_Past_Communications</td>\n",
              "      <td>3.430879</td>\n",
              "    </tr>\n",
              "    <tr>\n",
              "      <th>2</th>\n",
              "      <td>Word_Count</td>\n",
              "      <td>3.687067</td>\n",
              "    </tr>\n",
              "    <tr>\n",
              "      <th>3</th>\n",
              "      <td>Total_Img_links</td>\n",
              "      <td>2.629047</td>\n",
              "    </tr>\n",
              "  </tbody>\n",
              "</table>\n",
              "</div>\n",
              "      <button class=\"colab-df-convert\" onclick=\"convertToInteractive('df-958e5da0-c078-4743-923f-5a2e6159dec9')\"\n",
              "              title=\"Convert this dataframe to an interactive table.\"\n",
              "              style=\"display:none;\">\n",
              "        \n",
              "  <svg xmlns=\"http://www.w3.org/2000/svg\" height=\"24px\"viewBox=\"0 0 24 24\"\n",
              "       width=\"24px\">\n",
              "    <path d=\"M0 0h24v24H0V0z\" fill=\"none\"/>\n",
              "    <path d=\"M18.56 5.44l.94 2.06.94-2.06 2.06-.94-2.06-.94-.94-2.06-.94 2.06-2.06.94zm-11 1L8.5 8.5l.94-2.06 2.06-.94-2.06-.94L8.5 2.5l-.94 2.06-2.06.94zm10 10l.94 2.06.94-2.06 2.06-.94-2.06-.94-.94-2.06-.94 2.06-2.06.94z\"/><path d=\"M17.41 7.96l-1.37-1.37c-.4-.4-.92-.59-1.43-.59-.52 0-1.04.2-1.43.59L10.3 9.45l-7.72 7.72c-.78.78-.78 2.05 0 2.83L4 21.41c.39.39.9.59 1.41.59.51 0 1.02-.2 1.41-.59l7.78-7.78 2.81-2.81c.8-.78.8-2.07 0-2.86zM5.41 20L4 18.59l7.72-7.72 1.47 1.35L5.41 20z\"/>\n",
              "  </svg>\n",
              "      </button>\n",
              "      \n",
              "  <style>\n",
              "    .colab-df-container {\n",
              "      display:flex;\n",
              "      flex-wrap:wrap;\n",
              "      gap: 12px;\n",
              "    }\n",
              "\n",
              "    .colab-df-convert {\n",
              "      background-color: #E8F0FE;\n",
              "      border: none;\n",
              "      border-radius: 50%;\n",
              "      cursor: pointer;\n",
              "      display: none;\n",
              "      fill: #1967D2;\n",
              "      height: 32px;\n",
              "      padding: 0 0 0 0;\n",
              "      width: 32px;\n",
              "    }\n",
              "\n",
              "    .colab-df-convert:hover {\n",
              "      background-color: #E2EBFA;\n",
              "      box-shadow: 0px 1px 2px rgba(60, 64, 67, 0.3), 0px 1px 3px 1px rgba(60, 64, 67, 0.15);\n",
              "      fill: #174EA6;\n",
              "    }\n",
              "\n",
              "    [theme=dark] .colab-df-convert {\n",
              "      background-color: #3B4455;\n",
              "      fill: #D2E3FC;\n",
              "    }\n",
              "\n",
              "    [theme=dark] .colab-df-convert:hover {\n",
              "      background-color: #434B5C;\n",
              "      box-shadow: 0px 1px 3px 1px rgba(0, 0, 0, 0.15);\n",
              "      filter: drop-shadow(0px 1px 2px rgba(0, 0, 0, 0.3));\n",
              "      fill: #FFFFFF;\n",
              "    }\n",
              "  </style>\n",
              "\n",
              "      <script>\n",
              "        const buttonEl =\n",
              "          document.querySelector('#df-958e5da0-c078-4743-923f-5a2e6159dec9 button.colab-df-convert');\n",
              "        buttonEl.style.display =\n",
              "          google.colab.kernel.accessAllowed ? 'block' : 'none';\n",
              "\n",
              "        async function convertToInteractive(key) {\n",
              "          const element = document.querySelector('#df-958e5da0-c078-4743-923f-5a2e6159dec9');\n",
              "          const dataTable =\n",
              "            await google.colab.kernel.invokeFunction('convertToInteractive',\n",
              "                                                     [key], {});\n",
              "          if (!dataTable) return;\n",
              "\n",
              "          const docLinkHtml = 'Like what you see? Visit the ' +\n",
              "            '<a target=\"_blank\" href=https://colab.research.google.com/notebooks/data_table.ipynb>data table notebook</a>'\n",
              "            + ' to learn more about interactive tables.';\n",
              "          element.innerHTML = '';\n",
              "          dataTable['output_type'] = 'display_data';\n",
              "          await google.colab.output.renderOutput(dataTable, element);\n",
              "          const docLink = document.createElement('div');\n",
              "          docLink.innerHTML = docLinkHtml;\n",
              "          element.appendChild(docLink);\n",
              "        }\n",
              "      </script>\n",
              "    </div>\n",
              "  </div>\n",
              "  "
            ]
          },
          "metadata": {},
          "execution_count": 30
        }
      ]
    },
    {
      "cell_type": "markdown",
      "source": [
        "Now we have our multicollinearity in check!!"
      ],
      "metadata": {
        "id": "8Gj-FUyJpsqu"
      }
    },
    {
      "cell_type": "markdown",
      "source": [
        "\n",
        "\n",
        "**Outliers:**\n",
        "\n",
        "With the help of box-plots, we earlier saw that besides Word Count all our other continuous variables have outliers, but deleting them would lead to loss of information as our target variable is highly imbalanced we need to make sure that we aren't deleting more than 5% of information or data related to the minority class."
      ],
      "metadata": {
        "id": "LvInFuaawtjT"
      }
    },
    {
      "cell_type": "code",
      "source": [
        "#Let's check the number of outliers in each category of diff continuous features\n",
        "cont_var.remove('Word_Count')\n",
        "cont_var.remove('Total_Links')\n",
        "cont_var.remove('Total_Images')\n",
        "cont_var.append('Total_Img_links')\n"
      ],
      "metadata": {
        "id": "SXpHBLqOppil"
      },
      "execution_count": 31,
      "outputs": []
    },
    {
      "cell_type": "code",
      "source": [
        "#the number of outliers in different features acc to email_status\n",
        "outliers = {}\n",
        "for elem in cont_var:\n",
        "  q_75, q_25 = np.percentile(df.loc[:,elem],[75,25])\n",
        "  IQR = q_75-q_25\n",
        "  max = q_75+(1.5*IQR)\n",
        "  min = q_25-(1.5*IQR)\n",
        "  outlier_list=[]\n",
        "  outlier_list=df.loc[df[elem] < min]['Email_Status'].tolist()\n",
        "  outlier_list.append(df.loc[df[elem] > max]['Email_Status'].tolist()) \n",
        "  outliers[elem]={}\n",
        "  for i in outlier_list[0]:\n",
        "      outliers[elem][i] = outliers[elem].get(i,0) + 1\n",
        "print(outliers)"
      ],
      "metadata": {
        "colab": {
          "base_uri": "https://localhost:8080/"
        },
        "id": "icRRHchFwwP_",
        "outputId": "1fc5e3cc-6486-438c-80be-18cbf74e46fb"
      },
      "execution_count": 32,
      "outputs": [
        {
          "output_type": "stream",
          "name": "stdout",
          "text": [
            "{'Subject_Hotness_Score': {0: 170, 1: 76, 2: 1}, 'Total_Past_Communications': {1: 56, 0: 67, 2: 13}, 'Total_Img_links': {0: 3061, 1: 437, 2: 122}}\n"
          ]
        }
      ]
    },
    {
      "cell_type": "markdown",
      "source": [
        "We calculated the number of outliers with respect to the individual classes of our target variable. The minority class in our target variable is 1 and 2. But when we get rid of outliers we should check that we aren't deleting more than 5% of useful information related to minority class. Otherwise, the model will not be able to classify our minority classes correctly having lack of information. Let's check the percentage of outliers in minority class."
      ],
      "metadata": {
        "id": "dS7D2UKVw6YF"
      }
    },
    {
      "cell_type": "code",
      "source": [
        "df['Email_Status'].value_counts()"
      ],
      "metadata": {
        "colab": {
          "base_uri": "https://localhost:8080/"
        },
        "id": "5P7KiFUTw3Aw",
        "outputId": "90c8d3ca-ba75-4b5f-8cec-55b7a6e5b460"
      },
      "execution_count": 33,
      "outputs": [
        {
          "output_type": "execute_result",
          "data": {
            "text/plain": [
              "0    54941\n",
              "1    11039\n",
              "2     2373\n",
              "Name: Email_Status, dtype: int64"
            ]
          },
          "metadata": {},
          "execution_count": 33
        }
      ]
    },
    {
      "cell_type": "code",
      "source": [
        "#percentage of outliers in minority class\n",
        "minority_outliers = 0  \n",
        "majority_outliers = 0\n",
        "for col in cont_var:\n",
        "  minority_outliers += outliers[col][1]\n",
        "  minority_outliers += outliers[col][2]\n",
        "  majority_outliers += outliers[col][0]\n",
        "\n",
        "total_min = df['Email_Status'].value_counts()[1] + df['Email_Status'].value_counts()[2]\n",
        "total_maj = df['Email_Status'].value_counts()[0]\n",
        "\n",
        "min_per = (minority_outliers/total_min)*100   #number of outliers in minority classes by total number minority classes\n",
        "maj_per = (majority_outliers/total_maj)*100  #number of outliers in majority class by total number of majority class\n",
        "total_out = ((minority_outliers+majority_outliers)/(total_min+total_maj))*100\n",
        "print(f'The percentage of outliers in minority classes is {min_per}')\n",
        "print(f'The percentage of outliers in majority class is {maj_per}')\n",
        "print(f'The percentage of total outliers are {total_out}')"
      ],
      "metadata": {
        "colab": {
          "base_uri": "https://localhost:8080/"
        },
        "id": "oNGPfEgQxBa7",
        "outputId": "50264d86-dc97-4df2-b586-c8fe3d4b1b73"
      },
      "execution_count": 34,
      "outputs": [
        {
          "output_type": "stream",
          "name": "stdout",
          "text": [
            "The percentage of outliers in minority classes is 5.256486728303012\n",
            "The percentage of outliers in majority class is 6.002803006861907\n",
            "The percentage of total outliers are 5.856363290565154\n"
          ]
        }
      ]
    },
    {
      "cell_type": "code",
      "source": [
        "df.shape"
      ],
      "metadata": {
        "colab": {
          "base_uri": "https://localhost:8080/"
        },
        "id": "1PF7W3oPxJeF",
        "outputId": "4db6cf56-1289-44b5-9a54-98308e8e3c67"
      },
      "execution_count": 35,
      "outputs": [
        {
          "output_type": "execute_result",
          "data": {
            "text/plain": [
              "(68353, 9)"
            ]
          },
          "metadata": {},
          "execution_count": 35
        }
      ]
    },
    {
      "cell_type": "code",
      "source": [
        "df['Email_Status'].value_counts()"
      ],
      "metadata": {
        "colab": {
          "base_uri": "https://localhost:8080/"
        },
        "id": "cJd1BTwxxMe-",
        "outputId": "39bae7d5-32f0-4e0a-b966-8b8ea6ba7a9b"
      },
      "execution_count": 36,
      "outputs": [
        {
          "output_type": "execute_result",
          "data": {
            "text/plain": [
              "0    54941\n",
              "1    11039\n",
              "2     2373\n",
              "Name: Email_Status, dtype: int64"
            ]
          },
          "metadata": {},
          "execution_count": 36
        }
      ]
    },
    {
      "cell_type": "code",
      "source": [
        "#deleting majority outliers\n",
        "for elem in cont_var:\n",
        "  q_low = df[elem].quantile(0.01)\n",
        "  q_hi  = df[elem].quantile(0.99)\n",
        "  df = df.drop(df[(df[elem] > q_hi) &  (df['Email_Status']==0)].index)\n",
        "  df = df.drop(df[(df[elem] < q_low) & (df['Email_Status']==0)].index)"
      ],
      "metadata": {
        "id": "dLk0Fv-1xN6V"
      },
      "execution_count": 37,
      "outputs": []
    },
    {
      "cell_type": "code",
      "source": [
        "df.shape"
      ],
      "metadata": {
        "colab": {
          "base_uri": "https://localhost:8080/"
        },
        "id": "9ZHVnQq6xQsD",
        "outputId": "b874fdc4-8f1e-4e16-e8b1-a7a323b4e74b"
      },
      "execution_count": 38,
      "outputs": [
        {
          "output_type": "execute_result",
          "data": {
            "text/plain": [
              "(66914, 9)"
            ]
          },
          "metadata": {},
          "execution_count": 38
        }
      ]
    },
    {
      "cell_type": "code",
      "source": [
        "df['Email_Status'].value_counts()"
      ],
      "metadata": {
        "colab": {
          "base_uri": "https://localhost:8080/"
        },
        "id": "7E2FcM33xSyu",
        "outputId": "b692f304-1d6e-4307-9765-eb2aacaff44f"
      },
      "execution_count": 39,
      "outputs": [
        {
          "output_type": "execute_result",
          "data": {
            "text/plain": [
              "0    53502\n",
              "1    11039\n",
              "2     2373\n",
              "Name: Email_Status, dtype: int64"
            ]
          },
          "metadata": {},
          "execution_count": 39
        }
      ]
    },
    {
      "cell_type": "markdown",
      "source": [
        "We have more than 5% outliers in minority section and hence to avoid lack of information, we decide against deleting them."
      ],
      "metadata": {
        "id": "ZdrH6GljxW-j"
      }
    },
    {
      "cell_type": "markdown",
      "source": [
        "**Feature Scaling**\n",
        "\n",
        "Feature Scaling is a technique to standardize the independent features present in the data in a fixed range. It is done to prevent biased nature of machine learning algorithms towards features with greater values and scale."
      ],
      "metadata": {
        "id": "6z26dwEqxZJw"
      }
    },
    {
      "cell_type": "code",
      "source": [
        "#let's add back word count\n",
        "cont_var.append('Word_Count')"
      ],
      "metadata": {
        "id": "nSwIz_FcxUPK"
      },
      "execution_count": 40,
      "outputs": []
    },
    {
      "cell_type": "code",
      "source": [
        "#feature scaling of numerical variables\n",
        "for elem in cont_var:\n",
        "  df[elem] = (df[elem] - df[elem].mean()) / (df[elem].std())\n",
        "\n",
        "df.head(1)"
      ],
      "metadata": {
        "colab": {
          "base_uri": "https://localhost:8080/",
          "height": 145
        },
        "id": "wVQfGO5zxdqx",
        "outputId": "961b6750-b409-4d9a-f73e-a395f451aa73"
      },
      "execution_count": 41,
      "outputs": [
        {
          "output_type": "execute_result",
          "data": {
            "text/plain": [
              "   Email_Type  Subject_Hotness_Score  Email_Source_Type  Email_Campaign_Type  \\\n",
              "0           1               1.163386                  2                    2   \n",
              "\n",
              "   Total_Past_Communications  Time_Email_sent_Category  Word_Count  \\\n",
              "0                   0.348093                         1   -0.980426   \n",
              "\n",
              "   Email_Status  Total_Img_links  \n",
              "0             0        -0.545194  "
            ],
            "text/html": [
              "\n",
              "  <div id=\"df-93497512-0654-435b-8990-b4e4df789d74\">\n",
              "    <div class=\"colab-df-container\">\n",
              "      <div>\n",
              "<style scoped>\n",
              "    .dataframe tbody tr th:only-of-type {\n",
              "        vertical-align: middle;\n",
              "    }\n",
              "\n",
              "    .dataframe tbody tr th {\n",
              "        vertical-align: top;\n",
              "    }\n",
              "\n",
              "    .dataframe thead th {\n",
              "        text-align: right;\n",
              "    }\n",
              "</style>\n",
              "<table border=\"1\" class=\"dataframe\">\n",
              "  <thead>\n",
              "    <tr style=\"text-align: right;\">\n",
              "      <th></th>\n",
              "      <th>Email_Type</th>\n",
              "      <th>Subject_Hotness_Score</th>\n",
              "      <th>Email_Source_Type</th>\n",
              "      <th>Email_Campaign_Type</th>\n",
              "      <th>Total_Past_Communications</th>\n",
              "      <th>Time_Email_sent_Category</th>\n",
              "      <th>Word_Count</th>\n",
              "      <th>Email_Status</th>\n",
              "      <th>Total_Img_links</th>\n",
              "    </tr>\n",
              "  </thead>\n",
              "  <tbody>\n",
              "    <tr>\n",
              "      <th>0</th>\n",
              "      <td>1</td>\n",
              "      <td>1.163386</td>\n",
              "      <td>2</td>\n",
              "      <td>2</td>\n",
              "      <td>0.348093</td>\n",
              "      <td>1</td>\n",
              "      <td>-0.980426</td>\n",
              "      <td>0</td>\n",
              "      <td>-0.545194</td>\n",
              "    </tr>\n",
              "  </tbody>\n",
              "</table>\n",
              "</div>\n",
              "      <button class=\"colab-df-convert\" onclick=\"convertToInteractive('df-93497512-0654-435b-8990-b4e4df789d74')\"\n",
              "              title=\"Convert this dataframe to an interactive table.\"\n",
              "              style=\"display:none;\">\n",
              "        \n",
              "  <svg xmlns=\"http://www.w3.org/2000/svg\" height=\"24px\"viewBox=\"0 0 24 24\"\n",
              "       width=\"24px\">\n",
              "    <path d=\"M0 0h24v24H0V0z\" fill=\"none\"/>\n",
              "    <path d=\"M18.56 5.44l.94 2.06.94-2.06 2.06-.94-2.06-.94-.94-2.06-.94 2.06-2.06.94zm-11 1L8.5 8.5l.94-2.06 2.06-.94-2.06-.94L8.5 2.5l-.94 2.06-2.06.94zm10 10l.94 2.06.94-2.06 2.06-.94-2.06-.94-.94-2.06-.94 2.06-2.06.94z\"/><path d=\"M17.41 7.96l-1.37-1.37c-.4-.4-.92-.59-1.43-.59-.52 0-1.04.2-1.43.59L10.3 9.45l-7.72 7.72c-.78.78-.78 2.05 0 2.83L4 21.41c.39.39.9.59 1.41.59.51 0 1.02-.2 1.41-.59l7.78-7.78 2.81-2.81c.8-.78.8-2.07 0-2.86zM5.41 20L4 18.59l7.72-7.72 1.47 1.35L5.41 20z\"/>\n",
              "  </svg>\n",
              "      </button>\n",
              "      \n",
              "  <style>\n",
              "    .colab-df-container {\n",
              "      display:flex;\n",
              "      flex-wrap:wrap;\n",
              "      gap: 12px;\n",
              "    }\n",
              "\n",
              "    .colab-df-convert {\n",
              "      background-color: #E8F0FE;\n",
              "      border: none;\n",
              "      border-radius: 50%;\n",
              "      cursor: pointer;\n",
              "      display: none;\n",
              "      fill: #1967D2;\n",
              "      height: 32px;\n",
              "      padding: 0 0 0 0;\n",
              "      width: 32px;\n",
              "    }\n",
              "\n",
              "    .colab-df-convert:hover {\n",
              "      background-color: #E2EBFA;\n",
              "      box-shadow: 0px 1px 2px rgba(60, 64, 67, 0.3), 0px 1px 3px 1px rgba(60, 64, 67, 0.15);\n",
              "      fill: #174EA6;\n",
              "    }\n",
              "\n",
              "    [theme=dark] .colab-df-convert {\n",
              "      background-color: #3B4455;\n",
              "      fill: #D2E3FC;\n",
              "    }\n",
              "\n",
              "    [theme=dark] .colab-df-convert:hover {\n",
              "      background-color: #434B5C;\n",
              "      box-shadow: 0px 1px 3px 1px rgba(0, 0, 0, 0.15);\n",
              "      filter: drop-shadow(0px 1px 2px rgba(0, 0, 0, 0.3));\n",
              "      fill: #FFFFFF;\n",
              "    }\n",
              "  </style>\n",
              "\n",
              "      <script>\n",
              "        const buttonEl =\n",
              "          document.querySelector('#df-93497512-0654-435b-8990-b4e4df789d74 button.colab-df-convert');\n",
              "        buttonEl.style.display =\n",
              "          google.colab.kernel.accessAllowed ? 'block' : 'none';\n",
              "\n",
              "        async function convertToInteractive(key) {\n",
              "          const element = document.querySelector('#df-93497512-0654-435b-8990-b4e4df789d74');\n",
              "          const dataTable =\n",
              "            await google.colab.kernel.invokeFunction('convertToInteractive',\n",
              "                                                     [key], {});\n",
              "          if (!dataTable) return;\n",
              "\n",
              "          const docLinkHtml = 'Like what you see? Visit the ' +\n",
              "            '<a target=\"_blank\" href=https://colab.research.google.com/notebooks/data_table.ipynb>data table notebook</a>'\n",
              "            + ' to learn more about interactive tables.';\n",
              "          element.innerHTML = '';\n",
              "          dataTable['output_type'] = 'display_data';\n",
              "          await google.colab.output.renderOutput(dataTable, element);\n",
              "          const docLink = document.createElement('div');\n",
              "          docLink.innerHTML = docLinkHtml;\n",
              "          element.appendChild(docLink);\n",
              "        }\n",
              "      </script>\n",
              "    </div>\n",
              "  </div>\n",
              "  "
            ]
          },
          "metadata": {},
          "execution_count": 41
        }
      ]
    },
    {
      "cell_type": "markdown",
      "source": [
        "**One hot encoding**\n",
        "\n",
        "For categorical variables where no such ordinal relationship exists, the integer encoding is not enough. We have categorical data integer encoded with us, but assuming a natural order and allowing this data to the model may result in poor performance. If the\n",
        "categorical variable is an output variable, you may also want to convert predictions by the model back into a categorical form in order to present them or use them in some application."
      ],
      "metadata": {
        "id": "MwWLrDlyxjym"
      }
    },
    {
      "cell_type": "code",
      "source": [
        "#getting dummy variables for categorical data\n",
        "categorical_variables.remove('Customer_Location')"
      ],
      "metadata": {
        "id": "qerKe5XExfod"
      },
      "execution_count": 42,
      "outputs": []
    },
    {
      "cell_type": "code",
      "source": [
        "#categorical var that need to be encoded\n",
        "categorical_variables"
      ],
      "metadata": {
        "colab": {
          "base_uri": "https://localhost:8080/"
        },
        "id": "h9rkJ6KtxnNX",
        "outputId": "58025241-1beb-440c-c462-d76d79115ee0"
      },
      "execution_count": 43,
      "outputs": [
        {
          "output_type": "execute_result",
          "data": {
            "text/plain": [
              "['Email_Type',\n",
              " 'Email_Source_Type',\n",
              " 'Email_Campaign_Type',\n",
              " 'Time_Email_sent_Category']"
            ]
          },
          "metadata": {},
          "execution_count": 43
        }
      ]
    },
    {
      "cell_type": "code",
      "source": [
        "#creating dummy variables\n",
        "df = pd.get_dummies(df,columns=categorical_variables)\n",
        "# as some features had binary categories, we are going to delete one of them to keep it binary encoded and have less columns\n",
        "df.drop('Email_Type_2',axis=1,inplace=True)\n",
        "df.drop('Email_Source_Type_2',axis=1,inplace=True)\n",
        "df.head(1)"
      ],
      "metadata": {
        "colab": {
          "base_uri": "https://localhost:8080/",
          "height": 145
        },
        "id": "JJMIC511xoaL",
        "outputId": "3c5d99b2-7400-4c32-9466-58da1ab3d00b"
      },
      "execution_count": 44,
      "outputs": [
        {
          "output_type": "execute_result",
          "data": {
            "text/plain": [
              "   Subject_Hotness_Score  Total_Past_Communications  Word_Count  Email_Status  \\\n",
              "0               1.163386                   0.348093   -0.980426             0   \n",
              "\n",
              "   Total_Img_links  Email_Type_1  Email_Source_Type_1  Email_Campaign_Type_1  \\\n",
              "0        -0.545194             1                    0                      0   \n",
              "\n",
              "   Email_Campaign_Type_2  Email_Campaign_Type_3  Time_Email_sent_Category_1  \\\n",
              "0                      1                      0                           1   \n",
              "\n",
              "   Time_Email_sent_Category_2  Time_Email_sent_Category_3  \n",
              "0                           0                           0  "
            ],
            "text/html": [
              "\n",
              "  <div id=\"df-5eb34d75-8818-4880-b54b-57a0a9a5a618\">\n",
              "    <div class=\"colab-df-container\">\n",
              "      <div>\n",
              "<style scoped>\n",
              "    .dataframe tbody tr th:only-of-type {\n",
              "        vertical-align: middle;\n",
              "    }\n",
              "\n",
              "    .dataframe tbody tr th {\n",
              "        vertical-align: top;\n",
              "    }\n",
              "\n",
              "    .dataframe thead th {\n",
              "        text-align: right;\n",
              "    }\n",
              "</style>\n",
              "<table border=\"1\" class=\"dataframe\">\n",
              "  <thead>\n",
              "    <tr style=\"text-align: right;\">\n",
              "      <th></th>\n",
              "      <th>Subject_Hotness_Score</th>\n",
              "      <th>Total_Past_Communications</th>\n",
              "      <th>Word_Count</th>\n",
              "      <th>Email_Status</th>\n",
              "      <th>Total_Img_links</th>\n",
              "      <th>Email_Type_1</th>\n",
              "      <th>Email_Source_Type_1</th>\n",
              "      <th>Email_Campaign_Type_1</th>\n",
              "      <th>Email_Campaign_Type_2</th>\n",
              "      <th>Email_Campaign_Type_3</th>\n",
              "      <th>Time_Email_sent_Category_1</th>\n",
              "      <th>Time_Email_sent_Category_2</th>\n",
              "      <th>Time_Email_sent_Category_3</th>\n",
              "    </tr>\n",
              "  </thead>\n",
              "  <tbody>\n",
              "    <tr>\n",
              "      <th>0</th>\n",
              "      <td>1.163386</td>\n",
              "      <td>0.348093</td>\n",
              "      <td>-0.980426</td>\n",
              "      <td>0</td>\n",
              "      <td>-0.545194</td>\n",
              "      <td>1</td>\n",
              "      <td>0</td>\n",
              "      <td>0</td>\n",
              "      <td>1</td>\n",
              "      <td>0</td>\n",
              "      <td>1</td>\n",
              "      <td>0</td>\n",
              "      <td>0</td>\n",
              "    </tr>\n",
              "  </tbody>\n",
              "</table>\n",
              "</div>\n",
              "      <button class=\"colab-df-convert\" onclick=\"convertToInteractive('df-5eb34d75-8818-4880-b54b-57a0a9a5a618')\"\n",
              "              title=\"Convert this dataframe to an interactive table.\"\n",
              "              style=\"display:none;\">\n",
              "        \n",
              "  <svg xmlns=\"http://www.w3.org/2000/svg\" height=\"24px\"viewBox=\"0 0 24 24\"\n",
              "       width=\"24px\">\n",
              "    <path d=\"M0 0h24v24H0V0z\" fill=\"none\"/>\n",
              "    <path d=\"M18.56 5.44l.94 2.06.94-2.06 2.06-.94-2.06-.94-.94-2.06-.94 2.06-2.06.94zm-11 1L8.5 8.5l.94-2.06 2.06-.94-2.06-.94L8.5 2.5l-.94 2.06-2.06.94zm10 10l.94 2.06.94-2.06 2.06-.94-2.06-.94-.94-2.06-.94 2.06-2.06.94z\"/><path d=\"M17.41 7.96l-1.37-1.37c-.4-.4-.92-.59-1.43-.59-.52 0-1.04.2-1.43.59L10.3 9.45l-7.72 7.72c-.78.78-.78 2.05 0 2.83L4 21.41c.39.39.9.59 1.41.59.51 0 1.02-.2 1.41-.59l7.78-7.78 2.81-2.81c.8-.78.8-2.07 0-2.86zM5.41 20L4 18.59l7.72-7.72 1.47 1.35L5.41 20z\"/>\n",
              "  </svg>\n",
              "      </button>\n",
              "      \n",
              "  <style>\n",
              "    .colab-df-container {\n",
              "      display:flex;\n",
              "      flex-wrap:wrap;\n",
              "      gap: 12px;\n",
              "    }\n",
              "\n",
              "    .colab-df-convert {\n",
              "      background-color: #E8F0FE;\n",
              "      border: none;\n",
              "      border-radius: 50%;\n",
              "      cursor: pointer;\n",
              "      display: none;\n",
              "      fill: #1967D2;\n",
              "      height: 32px;\n",
              "      padding: 0 0 0 0;\n",
              "      width: 32px;\n",
              "    }\n",
              "\n",
              "    .colab-df-convert:hover {\n",
              "      background-color: #E2EBFA;\n",
              "      box-shadow: 0px 1px 2px rgba(60, 64, 67, 0.3), 0px 1px 3px 1px rgba(60, 64, 67, 0.15);\n",
              "      fill: #174EA6;\n",
              "    }\n",
              "\n",
              "    [theme=dark] .colab-df-convert {\n",
              "      background-color: #3B4455;\n",
              "      fill: #D2E3FC;\n",
              "    }\n",
              "\n",
              "    [theme=dark] .colab-df-convert:hover {\n",
              "      background-color: #434B5C;\n",
              "      box-shadow: 0px 1px 3px 1px rgba(0, 0, 0, 0.15);\n",
              "      filter: drop-shadow(0px 1px 2px rgba(0, 0, 0, 0.3));\n",
              "      fill: #FFFFFF;\n",
              "    }\n",
              "  </style>\n",
              "\n",
              "      <script>\n",
              "        const buttonEl =\n",
              "          document.querySelector('#df-5eb34d75-8818-4880-b54b-57a0a9a5a618 button.colab-df-convert');\n",
              "        buttonEl.style.display =\n",
              "          google.colab.kernel.accessAllowed ? 'block' : 'none';\n",
              "\n",
              "        async function convertToInteractive(key) {\n",
              "          const element = document.querySelector('#df-5eb34d75-8818-4880-b54b-57a0a9a5a618');\n",
              "          const dataTable =\n",
              "            await google.colab.kernel.invokeFunction('convertToInteractive',\n",
              "                                                     [key], {});\n",
              "          if (!dataTable) return;\n",
              "\n",
              "          const docLinkHtml = 'Like what you see? Visit the ' +\n",
              "            '<a target=\"_blank\" href=https://colab.research.google.com/notebooks/data_table.ipynb>data table notebook</a>'\n",
              "            + ' to learn more about interactive tables.';\n",
              "          element.innerHTML = '';\n",
              "          dataTable['output_type'] = 'display_data';\n",
              "          await google.colab.output.renderOutput(dataTable, element);\n",
              "          const docLink = document.createElement('div');\n",
              "          docLink.innerHTML = docLinkHtml;\n",
              "          element.appendChild(docLink);\n",
              "        }\n",
              "      </script>\n",
              "    </div>\n",
              "  </div>\n",
              "  "
            ]
          },
          "metadata": {},
          "execution_count": 44
        }
      ]
    },
    {
      "cell_type": "code",
      "source": [
        "#shape\n",
        "df.shape"
      ],
      "metadata": {
        "colab": {
          "base_uri": "https://localhost:8080/"
        },
        "id": "QEK-CCoExrTT",
        "outputId": "3620b576-0735-48f6-bca0-fe98a7575afd"
      },
      "execution_count": 45,
      "outputs": [
        {
          "output_type": "execute_result",
          "data": {
            "text/plain": [
              "(66914, 13)"
            ]
          },
          "metadata": {},
          "execution_count": 45
        }
      ]
    },
    {
      "cell_type": "code",
      "source": [
        "#Email_Status should be the last col\n",
        "columns=list(df.columns)\n",
        "columns.remove('Email_Status')\n",
        "columns.append('Email_Status')\n",
        "df=df[columns]\n",
        "df.head(1)"
      ],
      "metadata": {
        "colab": {
          "base_uri": "https://localhost:8080/",
          "height": 145
        },
        "id": "nUHwW92Wxube",
        "outputId": "550b54ff-8d90-4b1c-e174-aae19c6b2bfe"
      },
      "execution_count": 46,
      "outputs": [
        {
          "output_type": "execute_result",
          "data": {
            "text/plain": [
              "   Subject_Hotness_Score  Total_Past_Communications  Word_Count  \\\n",
              "0               1.163386                   0.348093   -0.980426   \n",
              "\n",
              "   Total_Img_links  Email_Type_1  Email_Source_Type_1  Email_Campaign_Type_1  \\\n",
              "0        -0.545194             1                    0                      0   \n",
              "\n",
              "   Email_Campaign_Type_2  Email_Campaign_Type_3  Time_Email_sent_Category_1  \\\n",
              "0                      1                      0                           1   \n",
              "\n",
              "   Time_Email_sent_Category_2  Time_Email_sent_Category_3  Email_Status  \n",
              "0                           0                           0             0  "
            ],
            "text/html": [
              "\n",
              "  <div id=\"df-b3ac9b9c-7e4c-4886-a044-423ea7c6fe03\">\n",
              "    <div class=\"colab-df-container\">\n",
              "      <div>\n",
              "<style scoped>\n",
              "    .dataframe tbody tr th:only-of-type {\n",
              "        vertical-align: middle;\n",
              "    }\n",
              "\n",
              "    .dataframe tbody tr th {\n",
              "        vertical-align: top;\n",
              "    }\n",
              "\n",
              "    .dataframe thead th {\n",
              "        text-align: right;\n",
              "    }\n",
              "</style>\n",
              "<table border=\"1\" class=\"dataframe\">\n",
              "  <thead>\n",
              "    <tr style=\"text-align: right;\">\n",
              "      <th></th>\n",
              "      <th>Subject_Hotness_Score</th>\n",
              "      <th>Total_Past_Communications</th>\n",
              "      <th>Word_Count</th>\n",
              "      <th>Total_Img_links</th>\n",
              "      <th>Email_Type_1</th>\n",
              "      <th>Email_Source_Type_1</th>\n",
              "      <th>Email_Campaign_Type_1</th>\n",
              "      <th>Email_Campaign_Type_2</th>\n",
              "      <th>Email_Campaign_Type_3</th>\n",
              "      <th>Time_Email_sent_Category_1</th>\n",
              "      <th>Time_Email_sent_Category_2</th>\n",
              "      <th>Time_Email_sent_Category_3</th>\n",
              "      <th>Email_Status</th>\n",
              "    </tr>\n",
              "  </thead>\n",
              "  <tbody>\n",
              "    <tr>\n",
              "      <th>0</th>\n",
              "      <td>1.163386</td>\n",
              "      <td>0.348093</td>\n",
              "      <td>-0.980426</td>\n",
              "      <td>-0.545194</td>\n",
              "      <td>1</td>\n",
              "      <td>0</td>\n",
              "      <td>0</td>\n",
              "      <td>1</td>\n",
              "      <td>0</td>\n",
              "      <td>1</td>\n",
              "      <td>0</td>\n",
              "      <td>0</td>\n",
              "      <td>0</td>\n",
              "    </tr>\n",
              "  </tbody>\n",
              "</table>\n",
              "</div>\n",
              "      <button class=\"colab-df-convert\" onclick=\"convertToInteractive('df-b3ac9b9c-7e4c-4886-a044-423ea7c6fe03')\"\n",
              "              title=\"Convert this dataframe to an interactive table.\"\n",
              "              style=\"display:none;\">\n",
              "        \n",
              "  <svg xmlns=\"http://www.w3.org/2000/svg\" height=\"24px\"viewBox=\"0 0 24 24\"\n",
              "       width=\"24px\">\n",
              "    <path d=\"M0 0h24v24H0V0z\" fill=\"none\"/>\n",
              "    <path d=\"M18.56 5.44l.94 2.06.94-2.06 2.06-.94-2.06-.94-.94-2.06-.94 2.06-2.06.94zm-11 1L8.5 8.5l.94-2.06 2.06-.94-2.06-.94L8.5 2.5l-.94 2.06-2.06.94zm10 10l.94 2.06.94-2.06 2.06-.94-2.06-.94-.94-2.06-.94 2.06-2.06.94z\"/><path d=\"M17.41 7.96l-1.37-1.37c-.4-.4-.92-.59-1.43-.59-.52 0-1.04.2-1.43.59L10.3 9.45l-7.72 7.72c-.78.78-.78 2.05 0 2.83L4 21.41c.39.39.9.59 1.41.59.51 0 1.02-.2 1.41-.59l7.78-7.78 2.81-2.81c.8-.78.8-2.07 0-2.86zM5.41 20L4 18.59l7.72-7.72 1.47 1.35L5.41 20z\"/>\n",
              "  </svg>\n",
              "      </button>\n",
              "      \n",
              "  <style>\n",
              "    .colab-df-container {\n",
              "      display:flex;\n",
              "      flex-wrap:wrap;\n",
              "      gap: 12px;\n",
              "    }\n",
              "\n",
              "    .colab-df-convert {\n",
              "      background-color: #E8F0FE;\n",
              "      border: none;\n",
              "      border-radius: 50%;\n",
              "      cursor: pointer;\n",
              "      display: none;\n",
              "      fill: #1967D2;\n",
              "      height: 32px;\n",
              "      padding: 0 0 0 0;\n",
              "      width: 32px;\n",
              "    }\n",
              "\n",
              "    .colab-df-convert:hover {\n",
              "      background-color: #E2EBFA;\n",
              "      box-shadow: 0px 1px 2px rgba(60, 64, 67, 0.3), 0px 1px 3px 1px rgba(60, 64, 67, 0.15);\n",
              "      fill: #174EA6;\n",
              "    }\n",
              "\n",
              "    [theme=dark] .colab-df-convert {\n",
              "      background-color: #3B4455;\n",
              "      fill: #D2E3FC;\n",
              "    }\n",
              "\n",
              "    [theme=dark] .colab-df-convert:hover {\n",
              "      background-color: #434B5C;\n",
              "      box-shadow: 0px 1px 3px 1px rgba(0, 0, 0, 0.15);\n",
              "      filter: drop-shadow(0px 1px 2px rgba(0, 0, 0, 0.3));\n",
              "      fill: #FFFFFF;\n",
              "    }\n",
              "  </style>\n",
              "\n",
              "      <script>\n",
              "        const buttonEl =\n",
              "          document.querySelector('#df-b3ac9b9c-7e4c-4886-a044-423ea7c6fe03 button.colab-df-convert');\n",
              "        buttonEl.style.display =\n",
              "          google.colab.kernel.accessAllowed ? 'block' : 'none';\n",
              "\n",
              "        async function convertToInteractive(key) {\n",
              "          const element = document.querySelector('#df-b3ac9b9c-7e4c-4886-a044-423ea7c6fe03');\n",
              "          const dataTable =\n",
              "            await google.colab.kernel.invokeFunction('convertToInteractive',\n",
              "                                                     [key], {});\n",
              "          if (!dataTable) return;\n",
              "\n",
              "          const docLinkHtml = 'Like what you see? Visit the ' +\n",
              "            '<a target=\"_blank\" href=https://colab.research.google.com/notebooks/data_table.ipynb>data table notebook</a>'\n",
              "            + ' to learn more about interactive tables.';\n",
              "          element.innerHTML = '';\n",
              "          dataTable['output_type'] = 'display_data';\n",
              "          await google.colab.output.renderOutput(dataTable, element);\n",
              "          const docLink = document.createElement('div');\n",
              "          docLink.innerHTML = docLinkHtml;\n",
              "          element.appendChild(docLink);\n",
              "        }\n",
              "      </script>\n",
              "    </div>\n",
              "  </div>\n",
              "  "
            ]
          },
          "metadata": {},
          "execution_count": 46
        }
      ]
    },
    {
      "cell_type": "markdown",
      "source": [
        "##**Modelling**:\n"
      ],
      "metadata": {
        "id": "zWkKmrZ2x0ku"
      }
    },
    {
      "cell_type": "markdown",
      "source": [
        "**Train-Test Split**\n"
      ],
      "metadata": {
        "id": "59FHdMZ_x3iU"
      }
    },
    {
      "cell_type": "code",
      "source": [
        "df.shape"
      ],
      "metadata": {
        "colab": {
          "base_uri": "https://localhost:8080/"
        },
        "id": "nRKEtjJUxxNI",
        "outputId": "c8878be0-a3a7-4893-e80f-64ea0e5a9672"
      },
      "execution_count": 47,
      "outputs": [
        {
          "output_type": "execute_result",
          "data": {
            "text/plain": [
              "(66914, 13)"
            ]
          },
          "metadata": {},
          "execution_count": 47
        }
      ]
    },
    {
      "cell_type": "code",
      "source": [
        "#X and Y \n",
        "X = df.drop('Email_Status',axis=1)\n",
        "y = df['Email_Status']\n",
        "print(f'Shape of X: {X.shape}')\n",
        "print(f'Shape of Y: {y.shape}')"
      ],
      "metadata": {
        "colab": {
          "base_uri": "https://localhost:8080/"
        },
        "id": "sXg0ivDJx4Oj",
        "outputId": "78c26319-4bf2-40a2-e86f-2e03832e8cb1"
      },
      "execution_count": 48,
      "outputs": [
        {
          "output_type": "stream",
          "name": "stdout",
          "text": [
            "Shape of X: (66914, 12)\n",
            "Shape of Y: (66914,)\n"
          ]
        }
      ]
    },
    {
      "cell_type": "code",
      "source": [
        "#train test split\n",
        "X_train, X_test, y_train, y_test = train_test_split(X, y, test_size=0.20, random_state=42, stratify=y) \n",
        "#we need to stratify to get same proprtion of classes in both the sets"
      ],
      "metadata": {
        "id": "7OEwla3wyIqo"
      },
      "execution_count": 49,
      "outputs": []
    },
    {
      "cell_type": "markdown",
      "source": [
        "####**Handling Class Imbalance**\n",
        "\n",
        "In the exploratory data analysis, we clearly saw that the number of emails being ignored was a lot more than being read and acknowledged. \n",
        "This imbalance in the class, can lead to biased classification towards ignored emails. We can handle it with Oversampling and Undersampling.\n",
        "\n",
        "First, we will go with Random Undersampling and check the results for various models that we will be testing and then with SMOTE. This technique generates synthetic data for the minority class. Lastly, we will analyze which method works for the best for our dataset.\n",
        "\n",
        "Random undersampling involves randomly selecting examples from the majority class to delete from the training dataset.\n",
        "\n",
        "SMOTE (Synthetic Minority Oversampling Technique) works by randomly picking a point from the minority class and computing the k-nearest neighbors for this point. The synthetic points are added between the chosen point and its neighbors.\n",
        "\n"
      ],
      "metadata": {
        "id": "0j9y8jzqyW_X"
      }
    },
    {
      "cell_type": "code",
      "source": [
        "#count plot for target variable\n",
        "#visualizing our imbalanced dataset\n",
        "ax = sns.countplot(x=df['Email_Status'])\n",
        "totals = []\n",
        "for i in ax.patches:\n",
        "    totals.append(i.get_height())\n",
        "\n",
        "total = sum(totals)\n",
        "\n",
        "for i in ax.patches:\n",
        "    ax.text(i.get_x() - .01, i.get_height() + .5, \\\n",
        "          str(round((i.get_height()/total)*100, 2))+'%', fontsize=12)\n",
        "plt.show()"
      ],
      "metadata": {
        "colab": {
          "base_uri": "https://localhost:8080/",
          "height": 280
        },
        "id": "MktLiSv0yTLQ",
        "outputId": "99fb4cf8-b877-4a5f-c40f-434b95b1ca90"
      },
      "execution_count": 50,
      "outputs": [
        {
          "output_type": "display_data",
          "data": {
            "text/plain": [
              "<Figure size 432x288 with 1 Axes>"
            ],
            "image/png": "[encoded data removed]"
          },
          "metadata": {
            "needs_background": "light"
          }
        }
      ]
    },
    {
      "cell_type": "markdown",
      "source": [
        "Only 3% of observations are classified as acknowledged emails and 80% are ignored emails. This will create a bias in favour of ignored emails in the model."
      ],
      "metadata": {
        "id": "jl9XRQHyydxH"
      }
    },
    {
      "cell_type": "code",
      "source": [
        "df['Email_Status'].value_counts()"
      ],
      "metadata": {
        "colab": {
          "base_uri": "https://localhost:8080/"
        },
        "id": "4A3iu2_HyaaI",
        "outputId": "f351ab83-fcc8-4298-ea33-33154c38e0b4"
      },
      "execution_count": 51,
      "outputs": [
        {
          "output_type": "execute_result",
          "data": {
            "text/plain": [
              "0    53502\n",
              "1    11039\n",
              "2     2373\n",
              "Name: Email_Status, dtype: int64"
            ]
          },
          "metadata": {},
          "execution_count": 51
        }
      ]
    },
    {
      "cell_type": "markdown",
      "source": [
        "We will be applying the Random Under Sampler and SMOTE algorithms to balance our classes on the train set only, so that the model doesn't catch up to the test set at all.\n",
        "Before balancing, we made sure the train split has class distribution as same as the main dataset by using stratify while splitting."
      ],
      "metadata": {
        "id": "YOPiq3lwyjJ3"
      }
    },
    {
      "cell_type": "markdown",
      "source": [
        "**Random Undersampling:**\n",
        "\n"
      ],
      "metadata": {
        "id": "T9o-FqEtyovk"
      }
    },
    {
      "cell_type": "code",
      "source": [
        "#importing random under sampler\n",
        "from imblearn.under_sampling import RandomUnderSampler\n",
        "from collections import Counter\n",
        "#resample\n",
        "rus = RandomUnderSampler(random_state=42, replacement=True)\n",
        "x_train_rus, y_train_rus = rus.fit_resample(X_train,y_train)\n",
        "\n",
        "#print shape\n",
        "print('Original dataset shape:', len(y_train))\n",
        "print('Resampled dataset shape', len(y_train_rus))"
      ],
      "metadata": {
        "colab": {
          "base_uri": "https://localhost:8080/"
        },
        "id": "EQYUdtjiygLL",
        "outputId": "89282580-0ed6-4257-a3d2-412a6f99f30b"
      },
      "execution_count": 52,
      "outputs": [
        {
          "output_type": "stream",
          "name": "stdout",
          "text": [
            "Original dataset shape: 53531\n",
            "Resampled dataset shape 5694\n"
          ]
        }
      ]
    },
    {
      "cell_type": "code",
      "source": [
        "#visualization of resampled data\n",
        "def resampled_data_visual(y_train_rus):\n",
        "  counter = Counter(y_train_rus)\n",
        "  for key,value in counter.items():\n",
        "    per = value / len(y_train_rus) * 100\n",
        "    print('Class=%d, n=%d (%.3f%%)' % (key, value, per))\n",
        "  # plot the distribution\n",
        "  plt.bar(counter.keys(), counter.values())\n",
        "  plt.show()\n",
        "\n",
        "resampled_data_visual(y_train_rus)"
      ],
      "metadata": {
        "colab": {
          "base_uri": "https://localhost:8080/",
          "height": 317
        },
        "id": "7pcPyPbwysrE",
        "outputId": "c8219abe-28e3-4c58-b37f-f6298f86db9f"
      },
      "execution_count": 53,
      "outputs": [
        {
          "output_type": "stream",
          "name": "stdout",
          "text": [
            "Class=0, n=1898 (33.333%)\n",
            "Class=1, n=1898 (33.333%)\n",
            "Class=2, n=1898 (33.333%)\n"
          ]
        },
        {
          "output_type": "display_data",
          "data": {
            "text/plain": [
              "<Figure size 432x288 with 1 Axes>"
            ],
            "image/png": "[encoded data removed]"
          },
          "metadata": {
            "needs_background": "light"
          }
        }
      ]
    },
    {
      "cell_type": "markdown",
      "source": [
        "**SMOTE:** "
      ],
      "metadata": {
        "id": "oEKEa5IVyzK_"
      }
    },
    {
      "cell_type": "code",
      "source": [
        "#SMOTE\n",
        "from imblearn.over_sampling import SMOTE\n",
        "smote = SMOTE()\n",
        "\n",
        "# fit predictor and target variable\n",
        "x_train_smote, y_train_smote = smote.fit_resample(X_train, y_train)\n",
        "print('Original dataset shape', len(y_train))\n",
        "print('Resampled dataset shape', len(y_train_smote))"
      ],
      "metadata": {
        "colab": {
          "base_uri": "https://localhost:8080/"
        },
        "id": "LB5Ou1Q8yv21",
        "outputId": "2941b47b-3328-4199-9da1-763dfedf89c2"
      },
      "execution_count": 54,
      "outputs": [
        {
          "output_type": "stream",
          "name": "stdout",
          "text": [
            "Original dataset shape 53531\n",
            "Resampled dataset shape 128406\n"
          ]
        }
      ]
    },
    {
      "cell_type": "code",
      "source": [
        "#visualization of resampled data\n",
        "resampled_data_visual(y_train_smote)"
      ],
      "metadata": {
        "colab": {
          "base_uri": "https://localhost:8080/",
          "height": 317
        },
        "id": "Kll55YHDy0ot",
        "outputId": "0d7f46a0-0f8e-42ef-f357-02cf1aacfa65"
      },
      "execution_count": 55,
      "outputs": [
        {
          "output_type": "stream",
          "name": "stdout",
          "text": [
            "Class=0, n=42802 (33.333%)\n",
            "Class=1, n=42802 (33.333%)\n",
            "Class=2, n=42802 (33.333%)\n"
          ]
        },
        {
          "output_type": "display_data",
          "data": {
            "text/plain": [
              "<Figure size 432x288 with 1 Axes>"
            ],
            "image/png": "[encoded data removed]"
          },
          "metadata": {
            "needs_background": "light"
          }
        }
      ]
    },
    {
      "cell_type": "markdown",
      "source": [
        "####**Logistic Regression:**\n",
        "\n",
        "Logistic Regression is a classification algorithm that predicts the probability of an outcome that can have only two values. \n",
        "\n",
        "Multinomial logistic regression is an extension of logistic regression that adds native support for multi-class classification problems.\n",
        "\n",
        "\n"
      ],
      "metadata": {
        "id": "_Z2MKFtoy92N"
      }
    },
    {
      "cell_type": "code",
      "source": [
        "#importing libraries\n",
        "from sklearn.linear_model import LogisticRegression\n",
        "#fitting Undersampling\n",
        "logistic_rus = LogisticRegression(class_weight='balanced',multi_class='multinomial', solver='lbfgs')\n",
        "logistic_rus.fit(x_train_rus, y_train_rus)"
      ],
      "metadata": {
        "colab": {
          "base_uri": "https://localhost:8080/"
        },
        "id": "5GM4G-3Ly22-",
        "outputId": "9ba7004c-b613-4fde-f4ab-c3f00c1408fd"
      },
      "execution_count": 56,
      "outputs": [
        {
          "output_type": "execute_result",
          "data": {
            "text/plain": [
              "LogisticRegression(class_weight='balanced', multi_class='multinomial')"
            ]
          },
          "metadata": {},
          "execution_count": 56
        }
      ]
    },
    {
      "cell_type": "code",
      "source": [
        "#fitting on smote\n",
        "logistic_smote = LogisticRegression(class_weight='balanced',multi_class='multinomial', solver='lbfgs')\n",
        "logistic_smote.fit(x_train_smote, y_train_smote)"
      ],
      "metadata": {
        "colab": {
          "base_uri": "https://localhost:8080/"
        },
        "id": "uE03XFtBzEXB",
        "outputId": "07b2fa40-a455-4dbb-e97b-f4d3d18b4122"
      },
      "execution_count": 57,
      "outputs": [
        {
          "output_type": "execute_result",
          "data": {
            "text/plain": [
              "LogisticRegression(class_weight='balanced', multi_class='multinomial')"
            ]
          },
          "metadata": {},
          "execution_count": 57
        }
      ]
    },
    {
      "cell_type": "code",
      "source": [
        "#Columns needed to compare metrics\n",
        "comparison_columns = ['Model_Name', 'Train_Accuracy', 'Train_Recall', 'Train_Precision', 'Train_F1score', 'Train_AUC' ,'Test_Accuracy', 'Test_Recall', 'Test_Precision', 'Test_F1score', 'Test_AUC']"
      ],
      "metadata": {
        "id": "SkEOeO3NzH72"
      },
      "execution_count": 58,
      "outputs": []
    },
    {
      "cell_type": "code",
      "source": [
        "#Function to evaluate the model\n",
        "\n",
        "def model_evaluation(model_name_RUS,model_name_SMOTE,model_var_rus, model_var_smote, x_train_rus, y_train_rus, x_train_smote, y_train_smote, X_test, y_test):\n",
        "  ''' This function predicts and evaluates various models for clasification for Random Undersampling and SMOTE algorithms, visualizes results \n",
        "      and creates a dataframe that compares the various models.'''\n",
        "  \n",
        "  #Making predictions random undersampling\n",
        "  y_pred_rus_train = model_var_rus.predict(x_train_rus)\n",
        "  y_pred_rus_test = model_var_rus.predict(X_test)\n",
        "  #probs\n",
        "  train_rus_proba = model_var_rus.predict_proba(x_train_rus)\n",
        "  test_rus_proba = model_var_rus.predict_proba(X_test)\n",
        "\n",
        "  #Making predictions smote\n",
        "  y_pred_smote_train = model_var_smote.predict(x_train_smote)\n",
        "  y_pred_smote_test = model_var_smote.predict(X_test)\n",
        "  #probs\n",
        "  train_sm_proba = model_var_smote.predict_proba(x_train_smote)\n",
        "  test_sm_proba = model_var_smote.predict_proba(X_test)\n",
        "\n",
        "  #Evaluation \n",
        "  #Accuracy RUS\n",
        "  accuracy_rus_train = accuracy_score(y_train_rus,y_pred_rus_train)\n",
        "  accuracy_rus_test = accuracy_score(y_test,y_pred_rus_test)\n",
        "  #Accuracy SMOTE\n",
        "  accuracy_smote_train = accuracy_score(y_train_smote,y_pred_smote_train)\n",
        "  accuracy_smote_test = accuracy_score(y_test,y_pred_smote_test)\n",
        "\n",
        "  #Confusion Matrix RUS\n",
        "  cm_rus_train = confusion_matrix(y_train_rus,y_pred_rus_train)\n",
        "  cm_rus_test = confusion_matrix(y_test,y_pred_rus_test)\n",
        "  #Confusion Matrix SMOTE\n",
        "  cm_smote_train = confusion_matrix(y_train_smote,y_pred_smote_train)\n",
        "  cm_smote_test = confusion_matrix(y_test,y_pred_smote_test)\n",
        "\n",
        "  #Recall RUS\n",
        "  train_recall_rus = recall_score(y_train_rus,y_pred_rus_train, average='weighted')\n",
        "  test_recall_rus = recall_score(y_test,y_pred_rus_test, average='weighted')\n",
        "  #Recall SMOTE\n",
        "  train_recall_smote = recall_score(y_train_smote,y_pred_smote_train, average='weighted')\n",
        "  test_recall_smote = recall_score(y_test,y_pred_smote_test, average='weighted')\n",
        "\n",
        "  #Precision RUS\n",
        "  train_precision_rus = precision_score(y_train_rus,y_pred_rus_train, average='weighted')\n",
        "  test_precision_rus = precision_score(y_test,y_pred_rus_test, average='weighted')\n",
        "  #Precision SMOTE\n",
        "  train_precision_smote = precision_score(y_train_smote,y_pred_smote_train, average='weighted')\n",
        "  test_precision_smote = precision_score(y_test,y_pred_smote_test, average='weighted')\n",
        "\n",
        "  #F1 Score RUS\n",
        "  train_f1_rus = f1_score(y_train_rus,y_pred_rus_train, average='weighted')\n",
        "  test_f1_rus = f1_score(y_test,y_pred_rus_test, average='weighted')\n",
        "  #F1 Score SMOTE\n",
        "  train_f1_smote = f1_score(y_train_smote,y_pred_smote_train, average='weighted')\n",
        "  test_f1_smote = f1_score(y_test,y_pred_smote_test, average='weighted')\n",
        "\n",
        "  #ROC-AUC RUS\n",
        "  train_auc_rus = roc_auc_score(y_train_rus,train_rus_proba,average='weighted',multi_class = 'ovr')\n",
        "  test_auc_rus = roc_auc_score(y_test,test_rus_proba,average='weighted',multi_class = 'ovr')\n",
        "  #ROC-AUC SMOTE\n",
        "  train_auc_smote = roc_auc_score(y_train_smote,train_sm_proba,average='weighted',multi_class = 'ovr')\n",
        "  test_auc_smote = roc_auc_score(y_test,test_sm_proba,average='weighted',multi_class = 'ovr')\n",
        "\n",
        "  #Visualising Results RUS\n",
        "  print(\"----- Evaluation on Random Undersampled data -----\" + str(model_name_RUS) + \"------\")\n",
        "  print(\"--------------Test data ---------------\\n\")\n",
        "  print(\"Confusion matrix \\n\")\n",
        "  print(cm_rus_test)\n",
        "  print(classification_report(y_test,y_pred_rus_test))\n",
        "\n",
        "  #create ROC curve\n",
        "  fpr = {}\n",
        "  tpr = {}\n",
        "  thresh ={}\n",
        "  no_of_class=3\n",
        "  for i in range(no_of_class):    \n",
        "      fpr[i], tpr[i], thresh[i] = metrics.roc_curve(y_test, test_rus_proba[:,i], pos_label=i)\n",
        "  plt.plot(fpr[0], tpr[0], linestyle='--',color='blue', label='Class 0 vs Others'+\"AUC=\"+str(test_auc_rus))\n",
        "  plt.plot(fpr[1], tpr[1], linestyle='--',color='green', label='Class 1 vs Others'+\"AUC=\"+str(test_auc_rus))\n",
        "  plt.plot(fpr[2], tpr[2], linestyle='--',color='orange', label='Class 2 vs Others'+\"AUC=\"+str(test_auc_rus))\n",
        "  plt.title('Multiclass ROC curve of ' + str(model_name_RUS))\n",
        "  plt.ylabel('True Positive Rate')\n",
        "  plt.xlabel('False Positive Rate')\n",
        "  plt.legend(loc=4)\n",
        "  plt.show()\n",
        "\n",
        "\n",
        "\n",
        "\n",
        "  #Visualising Results SMOTE\n",
        "  print(\"----- Evaluation on SMOTE data -------\" + str(model_name_SMOTE) + '-----')\n",
        "  print(\"---------------Test data ---------------\\n\")\n",
        "  print(\"Confusion matrix \\n\")\n",
        "  print(cm_smote_test)\n",
        "  print(classification_report(y_test,y_pred_smote_test))\n",
        "\n",
        " \n",
        "  #create ROC curve\n",
        "  fpr = {}\n",
        "  tpr = {}\n",
        "  thresh ={}\n",
        "  no_of_class=3\n",
        "  for i in range(no_of_class):    \n",
        "      fpr[i], tpr[i], thresh[i] = metrics.roc_curve(y_test, test_sm_proba[:,i], pos_label=i)\n",
        "  plt.plot(fpr[0], tpr[0], linestyle='--',color='blue', label='Class 0 vs Others'+\" AUC=\"+str(test_auc_smote))\n",
        "  plt.plot(fpr[1], tpr[1], linestyle='--',color='green', label='Class 1 vs Others'+\" AUC=\"+str(test_auc_smote))\n",
        "  plt.plot(fpr[2], tpr[2], linestyle='--',color='orange', label='Class 2 vs Others'+\" AUC=\"+str(test_auc_smote))\n",
        "  plt.title('Multiclass ROC curve of '+ str(model_name_SMOTE))\n",
        "  plt.ylabel('True Positive Rate')\n",
        "  plt.xlabel('False Positive Rate')\n",
        "  plt.legend(loc=4)\n",
        "  plt.show()\n",
        "\n",
        "  #Saving our results\n",
        "  global comparison_columns\n",
        "  metric_scores_rus = [model_name_RUS,accuracy_rus_train,train_recall_rus,train_precision_rus,train_f1_rus,train_auc_rus,accuracy_rus_test,test_recall_rus,test_precision_rus,test_f1_rus,test_auc_rus]\n",
        "  final_dict_rus = dict(zip(comparison_columns,metric_scores_rus))\n",
        "\n",
        "  metric_scores_smote = [model_name_SMOTE,accuracy_smote_train,train_recall_smote,train_precision_smote,train_f1_smote,train_auc_smote,accuracy_smote_test,test_recall_smote,test_precision_smote,test_f1_smote,test_auc_smote]\n",
        "  final_dict_smote = dict(zip(comparison_columns,metric_scores_smote))\n",
        "\n",
        "  dict_list = [final_dict_rus, final_dict_smote]\n",
        "  return dict_list"
      ],
      "metadata": {
        "id": "L5Gs0OXlzMDf"
      },
      "execution_count": 59,
      "outputs": []
    },
    {
      "cell_type": "code",
      "source": [
        "#function to create the comparison table\n",
        "final_list = []\n",
        "def add_list_to_final_df(dict_list):\n",
        "  global final_list\n",
        "  for elem in dict_list:\n",
        "    final_list.append(elem)\n",
        "  global comparison_df\n",
        "  comparison_df = pd.DataFrame(final_list, columns= comparison_columns)"
      ],
      "metadata": {
        "id": "lbw-MVc1zQcQ"
      },
      "execution_count": 60,
      "outputs": []
    },
    {
      "cell_type": "code",
      "source": [
        "#Let's evaluate logistic reg\n",
        "logistic_reg_list = model_evaluation('LogisticReg RUS','LogisticReg SMOTE',logistic_rus, logistic_smote, x_train_rus, y_train_rus, x_train_smote, y_train_smote, X_test, y_test)\n",
        "logistic_reg_list"
      ],
      "metadata": {
        "colab": {
          "base_uri": "https://localhost:8080/",
          "height": 1000
        },
        "id": "lkMQPNdVzSY9",
        "outputId": "b2522f3f-c8d3-4de6-fd52-45d50f4d0857"
      },
      "execution_count": 61,
      "outputs": [
        {
          "output_type": "stream",
          "name": "stdout",
          "text": [
            "----- Evaluation on Random Undersampled data -----LogisticReg RUS------\n",
            "--------------Test data ---------------\n",
            "\n",
            "Confusion matrix \n",
            "\n",
            "[[7594 1426 1680]\n",
            " [ 697  468 1043]\n",
            " [ 102   53  320]]\n",
            "              precision    recall  f1-score   support\n",
            "\n",
            "           0       0.90      0.71      0.80     10700\n",
            "           1       0.24      0.21      0.23      2208\n",
            "           2       0.11      0.67      0.18       475\n",
            "\n",
            "    accuracy                           0.63     13383\n",
            "   macro avg       0.42      0.53      0.40     13383\n",
            "weighted avg       0.77      0.63      0.68     13383\n",
            "\n"
          ]
        },
        {
          "output_type": "display_data",
          "data": {
            "text/plain": [
              "<Figure size 432x288 with 1 Axes>"
            ],
            "image/png": "[encoded data removed]"
          },
          "metadata": {
            "needs_background": "light"
          }
        },
        {
          "output_type": "stream",
          "name": "stdout",
          "text": [
            "----- Evaluation on SMOTE data -------LogisticReg SMOTE-----\n",
            "---------------Test data ---------------\n",
            "\n",
            "Confusion matrix \n",
            "\n",
            "[[7641 1420 1639]\n",
            " [ 706  474 1028]\n",
            " [ 102   55  318]]\n",
            "              precision    recall  f1-score   support\n",
            "\n",
            "           0       0.90      0.71      0.80     10700\n",
            "           1       0.24      0.21      0.23      2208\n",
            "           2       0.11      0.67      0.18       475\n",
            "\n",
            "    accuracy                           0.63     13383\n",
            "   macro avg       0.42      0.53      0.40     13383\n",
            "weighted avg       0.77      0.63      0.68     13383\n",
            "\n"
          ]
        },
        {
          "output_type": "display_data",
          "data": {
            "text/plain": [
              "<Figure size 432x288 with 1 Axes>"
            ],
            "image/png": "[encoded data removed]"
          },
          "metadata": {
            "needs_background": "light"
          }
        },
        {
          "output_type": "execute_result",
          "data": {
            "text/plain": [
              "[{'Model_Name': 'LogisticReg RUS',\n",
              "  'Test_AUC': 0.768544935502628,\n",
              "  'Test_Accuracy': 0.626316969289397,\n",
              "  'Test_F1score': 0.6796227100583893,\n",
              "  'Test_Precision': 0.7667985177103219,\n",
              "  'Test_Recall': 0.626316969289397,\n",
              "  'Train_AUC': 0.7245392243623979,\n",
              "  'Train_Accuracy': 0.533544081489287,\n",
              "  'Train_F1score': 0.506674393621358,\n",
              "  'Train_Precision': 0.5172274377821932,\n",
              "  'Train_Recall': 0.533544081489287},\n",
              " {'Model_Name': 'LogisticReg SMOTE',\n",
              "  'Test_AUC': 0.7703146891213695,\n",
              "  'Test_Accuracy': 0.6301277740416947,\n",
              "  'Test_F1score': 0.6822131084022233,\n",
              "  'Test_Precision': 0.7669672879323668,\n",
              "  'Test_Recall': 0.6301277740416947,\n",
              "  'Train_AUC': 0.7259241691660892,\n",
              "  'Train_Accuracy': 0.5364858339952961,\n",
              "  'Train_F1score': 0.5107047423106764,\n",
              "  'Train_Precision': 0.5198075108036267,\n",
              "  'Train_Recall': 0.5364858339952961}]"
            ]
          },
          "metadata": {},
          "execution_count": 61
        }
      ]
    },
    {
      "cell_type": "code",
      "source": [
        ""
      ],
      "metadata": {
        "id": "8nTXXwTOzUd3"
      },
      "execution_count": null,
      "outputs": []
    }
  ]
}